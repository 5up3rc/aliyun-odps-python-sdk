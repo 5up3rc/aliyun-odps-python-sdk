{
 "cells": [
  {
   "cell_type": "markdown",
   "metadata": {},
   "source": [
    "# An introduction to PyODPS ML\n",
    "## What is PyODPS ML\n",
    "\n",
    "PyODPS ML wraps algorithms in ODPS Machine Learning to a more programmer-friendly python interface. Unlike the case in PAI command, where users need to deal with inputs, outputs and columns themselves during the whole workflow, PyODPS ML helps solve all these problems. First, PyODPS ML automatically designating intermediate tables and destroying them when they are not used. Secondly, by introducing **DataSet**, users are able to designate fields as label, weight or other algorithm-specific roles, which avoids designating these parameters repeatedly."
   ]
  },
  {
   "cell_type": "markdown",
   "metadata": {},
   "source": [
    "## DataSets\n",
    "Almost all the operations in PyODPS ML are performed on DataSets. A DataSet is an extension to PyODPS DataFrame accompanied with role definitions for fields. Field roles designate the functionality of a field, i.e., label, weight or feature.\n",
    "\n",
    "Here we create an example ionosphere data set, use DataFrame to select some fields and grab summary from it."
   ]
  },
  {
   "cell_type": "code",
   "execution_count": 1,
   "metadata": {
    "collapsed": false
   },
   "outputs": [
    {
     "data": {
      "text/html": [
       "<table width=\"100%\"><thead><tr><th></th><th>field_role</th><th>data_type</th><th>count_total</th><th>count_valid</th><th>count_missing</th><th>count_unique</th><th>values_unique</th><th>min</th><th>max</th><th>median</th><th>mean</th><th>standard_deviation</th></tr></thead><tbody><tr><td>a01</td><td>FEATURE</td><td>Numerical\u0000</td><td>351</td><td>351</td><td>0</td><td>None</td><td>None</td><td>0.0</td><td>1.0</td><td>1.0</td><td>0.891737891738</td><td>0.311154715242</td></tr><tr><td>a02</td><td>FEATURE</td><td>Numerical\u0000</td><td>351</td><td>351</td><td>0</td><td>None</td><td>None</td><td>0.0</td><td>0.0</td><td>0.0</td><td>0.0</td><td>0.0</td></tr><tr><td>a03</td><td>FEATURE</td><td>Numerical\u0000</td><td>351</td><td>351</td><td>0</td><td>None</td><td>None</td><td>-1.0</td><td>1.0</td><td>0.87111</td><td>0.641341851852</td><td>0.49770820252</td></tr><tr><td>a04</td><td>FEATURE</td><td>Numerical\u0000</td><td>351</td><td>351</td><td>0</td><td>None</td><td>None</td><td>-1.0</td><td>1.0</td><td>0.01631</td><td>0.0443718803419</td><td>0.441434779862</td></tr><tr><td>class</td><td>LABEL</td><td>Numerical\u0000</td><td>351</td><td>351</td><td>0</td><td>None</td><td>None</td><td>0.0</td><td>1.0</td><td>1.0</td><td>0.641025641026</td><td>0.480384461415</td></tr></tbody></table>"
      ],
      "text/plain": [
       "{u'a01': OrderedDict([('field_role', 'FEATURE'),\n",
       "              ('data_type', u'Numerical\\x00'),\n",
       "              ('count_total', 351),\n",
       "              ('count_valid', 351),\n",
       "              ('count_missing', 0),\n",
       "              ('count_unique', None),\n",
       "              ('values_unique', None),\n",
       "              ('min', 0.0),\n",
       "              ('max', 1.0),\n",
       "              ('median', 1.0),\n",
       "              ('mean', 0.8917378917378918),\n",
       "              ('standard_deviation', 0.31115471524188226)]),\n",
       " u'a02': OrderedDict([('field_role', 'FEATURE'),\n",
       "              ('data_type', u'Numerical\\x00'),\n",
       "              ('count_total', 351),\n",
       "              ('count_valid', 351),\n",
       "              ('count_missing', 0),\n",
       "              ('count_unique', None),\n",
       "              ('values_unique', None),\n",
       "              ('min', 0.0),\n",
       "              ('max', 0.0),\n",
       "              ('median', 0.0),\n",
       "              ('mean', 0.0),\n",
       "              ('standard_deviation', 0.0)]),\n",
       " u'a03': OrderedDict([('field_role', 'FEATURE'),\n",
       "              ('data_type', u'Numerical\\x00'),\n",
       "              ('count_total', 351),\n",
       "              ('count_valid', 351),\n",
       "              ('count_missing', 0),\n",
       "              ('count_unique', None),\n",
       "              ('values_unique', None),\n",
       "              ('min', -1.0),\n",
       "              ('max', 1.0),\n",
       "              ('median', 0.87111),\n",
       "              ('mean', 0.6413418518518519),\n",
       "              ('standard_deviation', 0.49770820252001424)]),\n",
       " u'a04': OrderedDict([('field_role', 'FEATURE'),\n",
       "              ('data_type', u'Numerical\\x00'),\n",
       "              ('count_total', 351),\n",
       "              ('count_valid', 351),\n",
       "              ('count_missing', 0),\n",
       "              ('count_unique', None),\n",
       "              ('values_unique', None),\n",
       "              ('min', -1.0),\n",
       "              ('max', 1.0),\n",
       "              ('median', 0.01631),\n",
       "              ('mean', 0.04437188034188031),\n",
       "              ('standard_deviation', 0.44143477986207963)]),\n",
       " u'class': OrderedDict([('field_role', 'LABEL'),\n",
       "              ('data_type', u'Numerical\\x00'),\n",
       "              ('count_total', 351),\n",
       "              ('count_valid', 351),\n",
       "              ('count_missing', 0),\n",
       "              ('count_unique', None),\n",
       "              ('values_unique', None),\n",
       "              ('min', 0.0),\n",
       "              ('max', 1.0),\n",
       "              ('median', 1.0),\n",
       "              ('mean', 0.6410256410256411),\n",
       "              ('standard_deviation', 0.48038446141526137)])}"
      ]
     },
     "execution_count": 1,
     "metadata": {},
     "output_type": "execute_result"
    }
   ],
   "source": [
    "from odps import ODPS\n",
    "from odps.df.examples import create_ionosphere\n",
    "o = ODPS(access_id, secret_access_key, project=project, endpoint=endpoint)\n",
    "df = create_ionosphere(o)['a01', 'a02', 'a03', 'a04', 'class']\n",
    "df.calc_summary()"
   ]
  },
  {
   "cell_type": "markdown",
   "metadata": {},
   "source": [
    "You can also create a data set from a DataFrame. Field roles can be configured with *roles* method, or *role_name_field* method."
   ]
  },
  {
   "cell_type": "code",
   "execution_count": 2,
   "metadata": {
    "collapsed": false
   },
   "outputs": [],
   "source": [
    "# We assume that the table ionosphere already exists\n",
    "from odps.df import DataFrame\n",
    "df2 = DataFrame(o.get_table('ionosphere')).roles(label='class')"
   ]
  },
  {
   "cell_type": "markdown",
   "metadata": {},
   "source": [
    "There are other menber functions in DataSet. *append_id* can append an ID field to every row. *sample* can sample the data set with given ratio. *split* can split the data set into a train set and a test set.\n",
    "\n",
    "Here we split the original data set into a train set and a test set."
   ]
  },
  {
   "cell_type": "code",
   "execution_count": 3,
   "metadata": {
    "collapsed": true
   },
   "outputs": [],
   "source": [
    "train, test = df.split(0.6)"
   ]
  },
  {
   "cell_type": "markdown",
   "metadata": {},
   "source": [
    "## Algorithms\n",
    "PyODPS ML wraps XFlow algorithms and offline models, so you can do training and prediction in python without knowledge of ODPS console or PAI command. Aside from model prediction, there are three types of algorithms in PyODPS ML: trainers, transformers and metrics.\n",
    "\n",
    "Trainer algorithms are defined as classes and have a *train* method, which accepts a labeled data set and outputs a TrainedModel instance, which wraps an offline model in ODPS. You can call *predict* method of a TrainedModel instance to achieve prediction results.\n",
    "\n",
    "Transformer algorithms are mostly defined as classes and have a *transform* method, which accepts one or more data sets and returns a transformed data set or a tuple of data sets if there are multiple data sets to output.\n",
    "\n",
    "Metrics algorithms are mostly defined as methods which accept input data and parameters in args and output calculated metrics.\n",
    "\n",
    "Note that *train* on trainers or *transform* on transformers will NOT execute the flow, unless summarization or IO methods such as *collect*, *calc_summary* or *store_odps* on data sets or models are called. As metrics are summarization algorithms themselves, the flow will be executed immediately.\n",
    "\n",
    "Here we normalize the data set, split to train and test set, train a logistic regression algorithm and then visualize the first decision tree in the forest."
   ]
  },
  {
   "cell_type": "code",
   "execution_count": 4,
   "metadata": {
    "collapsed": false
   },
   "outputs": [
    {
     "data": {
      "image/svg+xml": [
       "<?xml version=\"1.0\" encoding=\"UTF-8\" standalone=\"no\"?>\r\n",
       "<!DOCTYPE svg PUBLIC \"-//W3C//DTD SVG 1.1//EN\"\r\n",
       " \"http://www.w3.org/Graphics/SVG/1.1/DTD/svg11.dtd\">\r\n",
       "<!-- Generated by graphviz version 2.38.0 (20140413.2041)\r\n",
       " -->\r\n",
       "<!-- Title: %3 Pages: 1 -->\r\n",
       "<svg width=\"513pt\" height=\"450pt\"\r\n",
       " viewBox=\"0.00 0.00 513.00 450.00\" xmlns=\"http://www.w3.org/2000/svg\" xmlns:xlink=\"http://www.w3.org/1999/xlink\">\r\n",
       "<g id=\"graph0\" class=\"graph\" transform=\"scale(1 1) rotate(0) translate(4 446)\">\r\n",
       "<title>%3</title>\r\n",
       "<polygon fill=\"white\" stroke=\"none\" points=\"-4,4 -4,-446 509,-446 509,4 -4,4\"/>\r\n",
       "<!-- root -->\r\n",
       "<g id=\"node1\" class=\"node\"><title>root</title>\r\n",
       "<polygon fill=\"none\" stroke=\"black\" points=\"184,-405.5 184,-441.5 240,-441.5 240,-405.5 184,-405.5\"/>\r\n",
       "<text text-anchor=\"start\" x=\"192\" y=\"-419.8\" font-family=\"Times New Roman,serif\" font-size=\"14.00\">ROOT</text>\r\n",
       "</g>\r\n",
       "<!-- struct1 -->\r\n",
       "<g id=\"node2\" class=\"node\"><title>struct1</title>\r\n",
       "<polygon fill=\"#e0eeee\" stroke=\"black\" points=\"108,-322.5 108,-368.5 198,-368.5 198,-322.5 108,-322.5\"/>\r\n",
       "<text text-anchor=\"start\" x=\"148.5\" y=\"-352.7\" font-family=\"Times New Roman,serif\" font-size=\"16.00\">0</text>\r\n",
       "<text text-anchor=\"start\" x=\"116\" y=\"-340.7\" font-family=\"Times New Roman,serif\" font-size=\"11.00\">`a03` &lt; 0.591635</text>\r\n",
       "<text text-anchor=\"start\" x=\"120\" y=\"-329.7\" font-family=\"Times New Roman,serif\" font-size=\"11.00\">LABELS: 0:34</text>\r\n",
       "</g>\r\n",
       "<!-- root&#45;&gt;struct1 -->\r\n",
       "<g id=\"edge1\" class=\"edge\"><title>root&#45;&gt;struct1</title>\r\n",
       "<path fill=\"none\" stroke=\"black\" d=\"M198.612,-405.254C192.025,-396.769 183.891,-386.292 176.325,-376.546\"/>\r\n",
       "<polygon fill=\"black\" stroke=\"black\" points=\"179.046,-374.344 170.149,-368.591 173.517,-378.636 179.046,-374.344\"/>\r\n",
       "</g>\r\n",
       "<!-- struct2 -->\r\n",
       "<g id=\"node3\" class=\"node\"><title>struct2</title>\r\n",
       "<polygon fill=\"none\" stroke=\"black\" points=\"216,-327.5 216,-363.5 326,-363.5 326,-327.5 216,-327.5\"/>\r\n",
       "<text text-anchor=\"start\" x=\"234\" y=\"-348.7\" font-family=\"Times New Roman,serif\" font-size=\"11.00\">`a03` ≥ 0.591635</text>\r\n",
       "<text text-anchor=\"start\" x=\"224\" y=\"-336.7\" font-family=\"Times New Roman,serif\" font-size=\"11.00\">LABELS: 0:40, 1:130</text>\r\n",
       "</g>\r\n",
       "<!-- root&#45;&gt;struct2 -->\r\n",
       "<g id=\"edge14\" class=\"edge\"><title>root&#45;&gt;struct2</title>\r\n",
       "<path fill=\"none\" stroke=\"black\" d=\"M225.388,-405.254C233.082,-395.343 242.886,-382.714 251.432,-371.707\"/>\r\n",
       "<polygon fill=\"black\" stroke=\"black\" points=\"254.297,-373.723 257.665,-363.677 248.768,-369.43 254.297,-373.723\"/>\r\n",
       "</g>\r\n",
       "<!-- struct3 -->\r\n",
       "<g id=\"node4\" class=\"node\"><title>struct3</title>\r\n",
       "<polygon fill=\"none\" stroke=\"black\" points=\"162.5,-249.5 162.5,-285.5 257.5,-285.5 257.5,-249.5 162.5,-249.5\"/>\r\n",
       "<text text-anchor=\"start\" x=\"173\" y=\"-270.7\" font-family=\"Times New Roman,serif\" font-size=\"11.00\">`a03` &lt; 0.718465</text>\r\n",
       "<text text-anchor=\"start\" x=\"170.5\" y=\"-258.7\" font-family=\"Times New Roman,serif\" font-size=\"11.00\">LABELS: 0:7, 1:6</text>\r\n",
       "</g>\r\n",
       "<!-- struct2&#45;&gt;struct3 -->\r\n",
       "<g id=\"edge8\" class=\"edge\"><title>struct2&#45;&gt;struct3</title>\r\n",
       "<path fill=\"none\" stroke=\"black\" d=\"M257.158,-327.254C249.203,-317.343 239.067,-304.714 230.232,-293.707\"/>\r\n",
       "<polygon fill=\"black\" stroke=\"black\" points=\"232.776,-291.285 223.787,-285.677 227.317,-295.667 232.776,-291.285\"/>\r\n",
       "</g>\r\n",
       "<!-- struct10 -->\r\n",
       "<g id=\"node11\" class=\"node\"><title>struct10</title>\r\n",
       "<polygon fill=\"none\" stroke=\"black\" points=\"276,-249.5 276,-285.5 386,-285.5 386,-249.5 276,-249.5\"/>\r\n",
       "<text text-anchor=\"start\" x=\"294\" y=\"-270.7\" font-family=\"Times New Roman,serif\" font-size=\"11.00\">`a03` ≥ 0.718465</text>\r\n",
       "<text text-anchor=\"start\" x=\"284\" y=\"-258.7\" font-family=\"Times New Roman,serif\" font-size=\"11.00\">LABELS: 0:33, 1:124</text>\r\n",
       "</g>\r\n",
       "<!-- struct2&#45;&gt;struct10 -->\r\n",
       "<g id=\"edge13\" class=\"edge\"><title>struct2&#45;&gt;struct10</title>\r\n",
       "<path fill=\"none\" stroke=\"black\" d=\"M284.615,-327.254C292.44,-317.343 302.41,-304.714 311.1,-293.707\"/>\r\n",
       "<polygon fill=\"black\" stroke=\"black\" points=\"313.99,-295.695 317.439,-285.677 308.495,-291.357 313.99,-295.695\"/>\r\n",
       "</g>\r\n",
       "<!-- struct4 -->\r\n",
       "<g id=\"node5\" class=\"node\"><title>struct4</title>\r\n",
       "<polygon fill=\"#e0eeee\" stroke=\"black\" points=\"67.5,-166.5 67.5,-212.5 144.5,-212.5 144.5,-166.5 67.5,-166.5\"/>\r\n",
       "<text text-anchor=\"start\" x=\"101.5\" y=\"-196.7\" font-family=\"Times New Roman,serif\" font-size=\"16.00\">0</text>\r\n",
       "<text text-anchor=\"start\" x=\"77\" y=\"-184.7\" font-family=\"Times New Roman,serif\" font-size=\"11.00\">`a04` &lt; 0.285</text>\r\n",
       "<text text-anchor=\"start\" x=\"75.5\" y=\"-173.7\" font-family=\"Times New Roman,serif\" font-size=\"11.00\">LABELS: 0:2</text>\r\n",
       "</g>\r\n",
       "<!-- struct3&#45;&gt;struct4 -->\r\n",
       "<g id=\"edge2\" class=\"edge\"><title>struct3&#45;&gt;struct4</title>\r\n",
       "<path fill=\"none\" stroke=\"black\" d=\"M186.66,-249.444C174.245,-240.371 158.659,-228.982 144.506,-218.639\"/>\r\n",
       "<polygon fill=\"black\" stroke=\"black\" points=\"146.513,-215.771 136.374,-212.696 142.383,-221.422 146.513,-215.771\"/>\r\n",
       "</g>\r\n",
       "<!-- struct5 -->\r\n",
       "<g id=\"node6\" class=\"node\"><title>struct5</title>\r\n",
       "<polygon fill=\"none\" stroke=\"black\" points=\"162.5,-171.5 162.5,-207.5 257.5,-207.5 257.5,-171.5 162.5,-171.5\"/>\r\n",
       "<text text-anchor=\"start\" x=\"181\" y=\"-192.7\" font-family=\"Times New Roman,serif\" font-size=\"11.00\">`a04` ≥ 0.285</text>\r\n",
       "<text text-anchor=\"start\" x=\"170.5\" y=\"-180.7\" font-family=\"Times New Roman,serif\" font-size=\"11.00\">LABELS: 0:5, 1:6</text>\r\n",
       "</g>\r\n",
       "<!-- struct3&#45;&gt;struct5 -->\r\n",
       "<g id=\"edge7\" class=\"edge\"><title>struct3&#45;&gt;struct5</title>\r\n",
       "<path fill=\"none\" stroke=\"black\" d=\"M210,-249.254C210,-240.023 210,-228.435 210,-217.995\"/>\r\n",
       "<polygon fill=\"black\" stroke=\"black\" points=\"213.5,-217.677 210,-207.677 206.5,-217.677 213.5,-217.677\"/>\r\n",
       "</g>\r\n",
       "<!-- struct6 -->\r\n",
       "<g id=\"node7\" class=\"node\"><title>struct6</title>\r\n",
       "<polygon fill=\"none\" stroke=\"black\" points=\"51.5,-88.5 51.5,-124.5 146.5,-124.5 146.5,-88.5 51.5,-88.5\"/>\r\n",
       "<text text-anchor=\"start\" x=\"62\" y=\"-109.7\" font-family=\"Times New Roman,serif\" font-size=\"11.00\">`a04` &lt; 0.545517</text>\r\n",
       "<text text-anchor=\"start\" x=\"59.5\" y=\"-97.7\" font-family=\"Times New Roman,serif\" font-size=\"11.00\">LABELS: 0:1, 1:5</text>\r\n",
       "</g>\r\n",
       "<!-- struct5&#45;&gt;struct6 -->\r\n",
       "<g id=\"edge5\" class=\"edge\"><title>struct5&#45;&gt;struct6</title>\r\n",
       "<path fill=\"none\" stroke=\"black\" d=\"M186.46,-171.322C170.272,-159.509 148.581,-143.68 130.851,-130.742\"/>\r\n",
       "<polygon fill=\"black\" stroke=\"black\" points=\"132.647,-127.721 122.506,-124.653 128.521,-133.375 132.647,-127.721\"/>\r\n",
       "</g>\r\n",
       "<!-- struct9 -->\r\n",
       "<g id=\"node10\" class=\"node\"><title>struct9</title>\r\n",
       "<polygon fill=\"#e0eeee\" stroke=\"black\" points=\"164.5,-83.5 164.5,-129.5 259.5,-129.5 259.5,-83.5 164.5,-83.5\"/>\r\n",
       "<text text-anchor=\"start\" x=\"207.5\" y=\"-113.7\" font-family=\"Times New Roman,serif\" font-size=\"16.00\">0</text>\r\n",
       "<text text-anchor=\"start\" x=\"175\" y=\"-101.7\" font-family=\"Times New Roman,serif\" font-size=\"11.00\">`a04` ≥ 0.545517</text>\r\n",
       "<text text-anchor=\"start\" x=\"172.5\" y=\"-90.7\" font-family=\"Times New Roman,serif\" font-size=\"11.00\">LABELS: 0:4, 1:1</text>\r\n",
       "</g>\r\n",
       "<!-- struct5&#45;&gt;struct9 -->\r\n",
       "<g id=\"edge6\" class=\"edge\"><title>struct5&#45;&gt;struct9</title>\r\n",
       "<path fill=\"none\" stroke=\"black\" d=\"M210.424,-171.322C210.652,-162.102 210.94,-150.435 211.207,-139.606\"/>\r\n",
       "<polygon fill=\"black\" stroke=\"black\" points=\"214.707,-139.67 211.455,-129.587 207.709,-139.497 214.707,-139.67\"/>\r\n",
       "</g>\r\n",
       "<!-- struct7 -->\r\n",
       "<g id=\"node8\" class=\"node\"><title>struct7</title>\r\n",
       "<polygon fill=\"#e0eeee\" stroke=\"black\" points=\"0,-0.5 0,-46.5 90,-46.5 90,-0.5 0,-0.5\"/>\r\n",
       "<text text-anchor=\"start\" x=\"40.5\" y=\"-30.7\" font-family=\"Times New Roman,serif\" font-size=\"16.00\">1</text>\r\n",
       "<text text-anchor=\"start\" x=\"8\" y=\"-18.7\" font-family=\"Times New Roman,serif\" font-size=\"11.00\">`a03` &lt; 0.692423</text>\r\n",
       "<text text-anchor=\"start\" x=\"14.5\" y=\"-7.7\" font-family=\"Times New Roman,serif\" font-size=\"11.00\">LABELS: 1:5</text>\r\n",
       "</g>\r\n",
       "<!-- struct6&#45;&gt;struct7 -->\r\n",
       "<g id=\"edge3\" class=\"edge\"><title>struct6&#45;&gt;struct7</title>\r\n",
       "<path fill=\"none\" stroke=\"black\" d=\"M87.548,-88.322C81.0842,-78.6264 72.8171,-66.2256 65.2921,-54.9381\"/>\r\n",
       "<polygon fill=\"black\" stroke=\"black\" points=\"68.1837,-52.9658 59.7245,-46.5868 62.3594,-56.8488 68.1837,-52.9658\"/>\r\n",
       "</g>\r\n",
       "<!-- struct8 -->\r\n",
       "<g id=\"node9\" class=\"node\"><title>struct8</title>\r\n",
       "<polygon fill=\"#e0eeee\" stroke=\"black\" points=\"108,-0.5 108,-46.5 198,-46.5 198,-0.5 108,-0.5\"/>\r\n",
       "<text text-anchor=\"start\" x=\"148.5\" y=\"-30.7\" font-family=\"Times New Roman,serif\" font-size=\"16.00\">0</text>\r\n",
       "<text text-anchor=\"start\" x=\"116\" y=\"-18.7\" font-family=\"Times New Roman,serif\" font-size=\"11.00\">`a03` ≥ 0.692423</text>\r\n",
       "<text text-anchor=\"start\" x=\"122.5\" y=\"-7.7\" font-family=\"Times New Roman,serif\" font-size=\"11.00\">LABELS: 0:1</text>\r\n",
       "</g>\r\n",
       "<!-- struct6&#45;&gt;struct8 -->\r\n",
       "<g id=\"edge4\" class=\"edge\"><title>struct6&#45;&gt;struct8</title>\r\n",
       "<path fill=\"none\" stroke=\"black\" d=\"M110.452,-88.322C116.916,-78.6264 125.183,-66.2256 132.708,-54.9381\"/>\r\n",
       "<polygon fill=\"black\" stroke=\"black\" points=\"135.641,-56.8488 138.275,-46.5868 129.816,-52.9658 135.641,-56.8488\"/>\r\n",
       "</g>\r\n",
       "<!-- struct11 -->\r\n",
       "<g id=\"node12\" class=\"node\"><title>struct11</title>\r\n",
       "<polygon fill=\"none\" stroke=\"black\" points=\"276,-171.5 276,-207.5 386,-207.5 386,-171.5 276,-171.5\"/>\r\n",
       "<text text-anchor=\"start\" x=\"294\" y=\"-192.7\" font-family=\"Times New Roman,serif\" font-size=\"11.00\">`a04` &lt; 0.873425</text>\r\n",
       "<text text-anchor=\"start\" x=\"284\" y=\"-180.7\" font-family=\"Times New Roman,serif\" font-size=\"11.00\">LABELS: 0:20, 1:124</text>\r\n",
       "</g>\r\n",
       "<!-- struct10&#45;&gt;struct11 -->\r\n",
       "<g id=\"edge11\" class=\"edge\"><title>struct10&#45;&gt;struct11</title>\r\n",
       "<path fill=\"none\" stroke=\"black\" d=\"M331,-249.254C331,-240.023 331,-228.435 331,-217.995\"/>\r\n",
       "<polygon fill=\"black\" stroke=\"black\" points=\"334.5,-217.677 331,-207.677 327.5,-217.677 334.5,-217.677\"/>\r\n",
       "</g>\r\n",
       "<!-- struct14 -->\r\n",
       "<g id=\"node15\" class=\"node\"><title>struct14</title>\r\n",
       "<polygon fill=\"#e0eeee\" stroke=\"black\" points=\"404,-166.5 404,-212.5 494,-212.5 494,-166.5 404,-166.5\"/>\r\n",
       "<text text-anchor=\"start\" x=\"444.5\" y=\"-196.7\" font-family=\"Times New Roman,serif\" font-size=\"16.00\">0</text>\r\n",
       "<text text-anchor=\"start\" x=\"412\" y=\"-184.7\" font-family=\"Times New Roman,serif\" font-size=\"11.00\">`a04` ≥ 0.873425</text>\r\n",
       "<text text-anchor=\"start\" x=\"416\" y=\"-173.7\" font-family=\"Times New Roman,serif\" font-size=\"11.00\">LABELS: 0:13</text>\r\n",
       "</g>\r\n",
       "<!-- struct10&#45;&gt;struct14 -->\r\n",
       "<g id=\"edge12\" class=\"edge\"><title>struct10&#45;&gt;struct14</title>\r\n",
       "<path fill=\"none\" stroke=\"black\" d=\"M357.482,-249.444C371.7,-240.286 389.583,-228.769 405.76,-218.35\"/>\r\n",
       "<polygon fill=\"black\" stroke=\"black\" points=\"408.025,-221.054 414.537,-212.696 404.235,-215.169 408.025,-221.054\"/>\r\n",
       "</g>\r\n",
       "<!-- struct12 -->\r\n",
       "<g id=\"node13\" class=\"node\"><title>struct12</title>\r\n",
       "<polygon fill=\"#e0eeee\" stroke=\"black\" points=\"281.5,-83.5 281.5,-129.5 376.5,-129.5 376.5,-83.5 281.5,-83.5\"/>\r\n",
       "<text text-anchor=\"start\" x=\"324.5\" y=\"-113.7\" font-family=\"Times New Roman,serif\" font-size=\"16.00\">0</text>\r\n",
       "<text text-anchor=\"start\" x=\"289.5\" y=\"-101.7\" font-family=\"Times New Roman,serif\" font-size=\"11.00\">`a04` &lt; 0.0188675</text>\r\n",
       "<text text-anchor=\"start\" x=\"298.5\" y=\"-90.7\" font-family=\"Times New Roman,serif\" font-size=\"11.00\">LABELS: 0:6</text>\r\n",
       "</g>\r\n",
       "<!-- struct11&#45;&gt;struct12 -->\r\n",
       "<g id=\"edge9\" class=\"edge\"><title>struct11&#45;&gt;struct12</title>\r\n",
       "<path fill=\"none\" stroke=\"black\" d=\"M330.576,-171.322C330.348,-162.102 330.06,-150.435 329.793,-139.606\"/>\r\n",
       "<polygon fill=\"black\" stroke=\"black\" points=\"333.291,-139.497 329.545,-129.587 326.293,-139.67 333.291,-139.497\"/>\r\n",
       "</g>\r\n",
       "<!-- struct13 -->\r\n",
       "<g id=\"node14\" class=\"node\"><title>struct13</title>\r\n",
       "<polygon fill=\"#e0eeee\" stroke=\"black\" points=\"395,-83.5 395,-129.5 505,-129.5 505,-83.5 395,-83.5\"/>\r\n",
       "<text text-anchor=\"start\" x=\"445.5\" y=\"-113.7\" font-family=\"Times New Roman,serif\" font-size=\"16.00\">1</text>\r\n",
       "<text text-anchor=\"start\" x=\"410.5\" y=\"-101.7\" font-family=\"Times New Roman,serif\" font-size=\"11.00\">`a04` ≥ 0.0188675</text>\r\n",
       "<text text-anchor=\"start\" x=\"403\" y=\"-90.7\" font-family=\"Times New Roman,serif\" font-size=\"11.00\">LABELS: 0:14, 1:124</text>\r\n",
       "</g>\r\n",
       "<!-- struct11&#45;&gt;struct13 -->\r\n",
       "<g id=\"edge10\" class=\"edge\"><title>struct11&#45;&gt;struct13</title>\r\n",
       "<path fill=\"none\" stroke=\"black\" d=\"M356.237,-171.322C371.598,-160.866 391.582,-147.264 409.151,-135.305\"/>\r\n",
       "<polygon fill=\"black\" stroke=\"black\" points=\"411.254,-138.107 417.552,-129.587 407.315,-132.32 411.254,-138.107\"/>\r\n",
       "</g>\r\n",
       "</g>\r\n",
       "</svg>\r\n"
      ],
      "text/plain": [
       "ROOT\n",
       "├── SCORE = 0 WHEN `a03` < 0.591635 (COUNTS: 0:34)\n",
       "└── WHEN `a03` ≥ 0.591635 (COUNTS: 0:40, 1:130)\n",
       "       ├── WHEN `a03` < 0.718465 (COUNTS: 0:7, 1:6)\n",
       "       │    ├── SCORE = 0 WHEN `a04` < 0.285 (COUNTS: 0:2)\n",
       "       │    └── WHEN `a04` ≥ 0.285 (COUNTS: 0:5, 1:6)\n",
       "       │           ├── WHEN `a04` < 0.545517 (COUNTS: 0:1, 1:5)\n",
       "       │           │    ├── SCORE = 1 WHEN `a03` < 0.692423 (COUNTS: 1:5)\n",
       "       │           │    └── SCORE = 0 WHEN `a03` ≥ 0.692423 (COUNTS: 0:1)\n",
       "       │           └── SCORE = 0 WHEN `a04` ≥ 0.545517 (COUNTS: 0:4, 1:1)\n",
       "       └── WHEN `a03` ≥ 0.718465 (COUNTS: 0:33, 1:124)\n",
       "              ├── WHEN `a04` < 0.873425 (COUNTS: 0:20, 1:124)\n",
       "              │    ├── SCORE = 0 WHEN `a04` < 0.0188675 (COUNTS: 0:6)\n",
       "              │    └── SCORE = 1 WHEN `a04` ≥ 0.0188675 (COUNTS: 0:14, 1:124)\n",
       "              └── SCORE = 0 WHEN `a04` ≥ 0.873425 (COUNTS: 0:13)"
      ]
     },
     "execution_count": 4,
     "metadata": {},
     "output_type": "execute_result"
    }
   ],
   "source": [
    "from odps.ml.classifiers import *\n",
    "from odps.ml.preprocess import normalize\n",
    "train, test = normalize(df).split(0.6)\n",
    "\n",
    "lr = RandomForests(tree_num=10)\n",
    "model = lr.train(train)\n",
    "model.segments[0]"
   ]
  },
  {
   "cell_type": "markdown",
   "metadata": {},
   "source": [
    "Models can be used for prediction using **predict** method. Here we predict labels on the test set using the model we just created and then store the result. DataFrame methods can be used to do some statistics."
   ]
  },
  {
   "cell_type": "code",
   "execution_count": 5,
   "metadata": {
    "collapsed": false
   },
   "outputs": [
    {
     "data": {
      "text/html": [
       "<div>\n",
       "<table border=\"1\" class=\"dataframe\">\n",
       "  <thead>\n",
       "    <tr style=\"text-align: right;\">\n",
       "      <th></th>\n",
       "      <th>prediction_result</th>\n",
       "      <th>count</th>\n",
       "    </tr>\n",
       "  </thead>\n",
       "  <tbody>\n",
       "    <tr>\n",
       "      <th>0</th>\n",
       "      <td>1</td>\n",
       "      <td>103</td>\n",
       "    </tr>\n",
       "    <tr>\n",
       "      <th>1</th>\n",
       "      <td>0</td>\n",
       "      <td>44</td>\n",
       "    </tr>\n",
       "  </tbody>\n",
       "</table>\n",
       "</div>"
      ],
      "text/plain": [
       "   prediction_result  count\n",
       "0                  1    103\n",
       "1                  0     44"
      ]
     },
     "execution_count": 5,
     "metadata": {},
     "output_type": "execute_result"
    }
   ],
   "source": [
    "predicted = model.predict(test)\n",
    "predicted.persist('test_out')\n",
    "predicted.prediction_result.value_counts().to_pandas()"
   ]
  },
  {
   "cell_type": "markdown",
   "metadata": {},
   "source": [
    "Then we calculate and plot the ROC curve for the estimation. The true label column is the column designated in field roles, while the predicted label column and score column are 'prediction_result' and 'prediction_score' by default, respectively. After obtaining false positive ratio and true positive ratio, we can plot an ROC curve with *matplotlib*."
   ]
  },
  {
   "cell_type": "code",
   "execution_count": 6,
   "metadata": {
    "collapsed": false
   },
   "outputs": [
    {
     "data": {
      "text/plain": [
       "[<matplotlib.lines.Line2D at 0xa859550>]"
      ]
     },
     "execution_count": 6,
     "metadata": {},
     "output_type": "execute_result"
    },
    {
     "data": {
      "image/png": "[encoded data removed]",
      "text/plain": [
       "<matplotlib.figure.Figure at 0xa4d1b00>"
      ]
     },
     "metadata": {},
     "output_type": "display_data"
    }
   ],
   "source": [
    "from odps.ml.metrics import roc_curve\n",
    "import matplotlib.pyplot as plt\n",
    "%matplotlib inline\n",
    "\n",
    "# roc_curve is also an operational node\n",
    "fpr, tpr, thresh = roc_curve(predicted)\n",
    "plt.plot(fpr, tpr)"
   ]
  },
  {
   "cell_type": "markdown",
   "metadata": {},
   "source": [
    "AUC can also be calculated. As we have already run roc_curve, the result is cached and *roc_auc_curve* returns immediately."
   ]
  },
  {
   "cell_type": "code",
   "execution_count": 7,
   "metadata": {
    "collapsed": false
   },
   "outputs": [
    {
     "data": {
      "text/plain": [
       "0.92672064777327945"
      ]
     },
     "execution_count": 7,
     "metadata": {},
     "output_type": "execute_result"
    }
   ],
   "source": [
    "from odps.ml.metrics import roc_auc_score\n",
    "roc_auc_score(predicted)"
   ]
  },
  {
   "cell_type": "code",
   "execution_count": null,
   "metadata": {
    "collapsed": true
   },
   "outputs": [],
   "source": []
  }
 ],
 "metadata": {
  "kernelspec": {
   "display_name": "Python 2",
   "language": "python",
   "name": "python2"
  },
  "language_info": {
   "codemirror_mode": {
    "name": "ipython",
    "version": 2
   },
   "file_extension": ".py",
   "mimetype": "text/x-python",
   "name": "python",
   "nbconvert_exporter": "python",
   "pygments_lexer": "ipython2",
   "version": "2.7.11"
  },
  "widgets": {
   "state": {
    "306e5241dfdd4afe8452e8a955772581": {
     "views": []
    },
    "9f149d8dccd845a387a1e5ba469894a6": {
     "views": []
    },
    "b13451f5920644c6bffe95b6a439c25a": {
     "views": []
    },
    "df357c53ca4a48b58cb336ff2cd82a87": {
     "views": []
    },
    "e8d66dcbe9734c1cb46d9fb06c1d7669": {
     "views": []
    }
   },
   "version": "1.1.2"
  }
 },
 "nbformat": 4,
 "nbformat_minor": 0
}
