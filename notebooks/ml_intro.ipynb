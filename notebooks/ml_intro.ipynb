{
 "cells": [
  {
   "cell_type": "markdown",
   "metadata": {
    "deletable": true,
    "editable": true
   },
   "source": [
    "# An introduction to PyODPS ML\n",
    "## What is PyODPS ML\n",
    "\n",
    "PyODPS ML wraps algorithms in ODPS Machine Learning to a more programmer-friendly python interface. Unlike the case in PAI command, where users need to deal with inputs, outputs and columns themselves during the whole workflow, PyODPS ML helps solve all these problems. First, PyODPS ML automatically designating intermediate tables and destroying them when they are not used. Secondly, by introducing **DataSet**, users are able to designate fields as label, weight or other algorithm-specific roles, which avoids designating these parameters repeatedly."
   ]
  },
  {
   "cell_type": "markdown",
   "metadata": {
    "deletable": true,
    "editable": true
   },
   "source": [
    "## DataSets\n",
    "Almost all the operations in PyODPS ML are performed on DataSets. A DataSet is an extension to PyODPS DataFrame accompanied with role definitions for fields. Field roles designate the functionality of a field, i.e., label, weight or feature.\n",
    "\n",
    "Here we create an example ionosphere data set, use DataFrame to select some fields and grab summary from it."
   ]
  },
  {
   "cell_type": "code",
   "execution_count": 1,
   "metadata": {
    "collapsed": false,
    "deletable": true,
    "editable": true
   },
   "outputs": [
    {
     "data": {
      "text/html": [
       "<div>\n",
       "<table border=\"1\" class=\"dataframe\">\n",
       "  <thead>\n",
       "    <tr style=\"text-align: right;\">\n",
       "      <th></th>\n",
       "      <th>type</th>\n",
       "      <th>a01</th>\n",
       "      <th>a02</th>\n",
       "      <th>a03</th>\n",
       "      <th>a04</th>\n",
       "      <th>class</th>\n",
       "    </tr>\n",
       "  </thead>\n",
       "  <tbody>\n",
       "    <tr>\n",
       "      <th>0</th>\n",
       "      <td>count</td>\n",
       "      <td>351.000000</td>\n",
       "      <td>351.0</td>\n",
       "      <td>351.000000</td>\n",
       "      <td>351.000000</td>\n",
       "      <td>351.000000</td>\n",
       "    </tr>\n",
       "    <tr>\n",
       "      <th>1</th>\n",
       "      <td>mean</td>\n",
       "      <td>0.891738</td>\n",
       "      <td>0.0</td>\n",
       "      <td>0.641342</td>\n",
       "      <td>0.044372</td>\n",
       "      <td>0.641026</td>\n",
       "    </tr>\n",
       "    <tr>\n",
       "      <th>2</th>\n",
       "      <td>std</td>\n",
       "      <td>0.311155</td>\n",
       "      <td>0.0</td>\n",
       "      <td>0.497708</td>\n",
       "      <td>0.441435</td>\n",
       "      <td>0.480384</td>\n",
       "    </tr>\n",
       "    <tr>\n",
       "      <th>3</th>\n",
       "      <td>min</td>\n",
       "      <td>0.000000</td>\n",
       "      <td>0.0</td>\n",
       "      <td>-1.000000</td>\n",
       "      <td>-1.000000</td>\n",
       "      <td>0.000000</td>\n",
       "    </tr>\n",
       "    <tr>\n",
       "      <th>4</th>\n",
       "      <td>max</td>\n",
       "      <td>1.000000</td>\n",
       "      <td>0.0</td>\n",
       "      <td>1.000000</td>\n",
       "      <td>1.000000</td>\n",
       "      <td>1.000000</td>\n",
       "    </tr>\n",
       "  </tbody>\n",
       "</table>\n",
       "</div>"
      ],
      "text/plain": [
       "    type         a01    a02         a03         a04       class\n",
       "0  count  351.000000  351.0  351.000000  351.000000  351.000000\n",
       "1   mean    0.891738    0.0    0.641342    0.044372    0.641026\n",
       "2    std    0.311155    0.0    0.497708    0.441435    0.480384\n",
       "3    min    0.000000    0.0   -1.000000   -1.000000    0.000000\n",
       "4    max    1.000000    0.0    1.000000    1.000000    1.000000"
      ]
     },
     "execution_count": 1,
     "metadata": {},
     "output_type": "execute_result"
    }
   ],
   "source": [
    "from odps import ODPS\n",
    "from odps.df.examples import create_ionosphere\n",
    "o = ODPS(access_id, secret_access_key, project=project, endpoint=endpoint)\n",
    "df = create_ionosphere(o)['a01', 'a02', 'a03', 'a04', 'class']\n",
    "df.describe()"
   ]
  },
  {
   "cell_type": "markdown",
   "metadata": {
    "deletable": true,
    "editable": true
   },
   "source": [
    "You can also create a data set from a DataFrame. Field roles can be configured with *roles* method, or *role_name_field* method."
   ]
  },
  {
   "cell_type": "code",
   "execution_count": 2,
   "metadata": {
    "collapsed": false,
    "deletable": true,
    "editable": true
   },
   "outputs": [],
   "source": [
    "# We assume that the table ionosphere already exists\n",
    "from odps.df import DataFrame\n",
    "df2 = DataFrame(o.get_table('ionosphere')).roles(label='class')"
   ]
  },
  {
   "cell_type": "markdown",
   "metadata": {
    "deletable": true,
    "editable": true
   },
   "source": [
    "There are other menber functions in DataSet. *append_id* can append an ID field to every row. *sample* can sample the data set with given ratio. *split* can split the data set into a train set and a test set.\n",
    "\n",
    "Here we split the original data set into a train set and a test set."
   ]
  },
  {
   "cell_type": "code",
   "execution_count": 3,
   "metadata": {
    "collapsed": true,
    "deletable": true,
    "editable": true
   },
   "outputs": [],
   "source": [
    "train, test = df.split(0.6)"
   ]
  },
  {
   "cell_type": "markdown",
   "metadata": {
    "deletable": true,
    "editable": true
   },
   "source": [
    "## Algorithms\n",
    "PyODPS ML wraps XFlow algorithms and offline models, so you can do training and prediction in python without knowledge of ODPS console or PAI command. Aside from model prediction, there are three types of algorithms in PyODPS ML: trainers, transformers and metrics.\n",
    "\n",
    "Trainer algorithms are defined as classes and have a *train* method, which accepts a labeled data set and outputs a TrainedModel instance, which wraps an offline model in ODPS. You can call *predict* method of a TrainedModel instance to achieve prediction results.\n",
    "\n",
    "Transformer algorithms are mostly defined as classes and have a *transform* method, which accepts one or more data sets and returns a transformed data set or a tuple of data sets if there are multiple data sets to output.\n",
    "\n",
    "Metrics algorithms are mostly defined as methods which accept input data and parameters in args and output calculated metrics.\n",
    "\n",
    "Note that *train* on trainers or *transform* on transformers will NOT execute the flow, unless summarization or IO methods such as *collect*, *calc_summary* or *store_odps* on data sets or models are called. As metrics are summarization algorithms themselves, the flow will be executed immediately.\n",
    "\n",
    "Here we normalize the data set, split to train and test set, train a logistic regression algorithm and then visualize the first decision tree in the forest."
   ]
  },
  {
   "cell_type": "code",
   "execution_count": 4,
   "metadata": {
    "collapsed": false,
    "deletable": true,
    "editable": true
   },
   "outputs": [
    {
     "data": {
      "image/svg+xml": [
       "<?xml version=\"1.0\" encoding=\"UTF-8\" standalone=\"no\"?>\r\n",
       "<!DOCTYPE svg PUBLIC \"-//W3C//DTD SVG 1.1//EN\"\r\n",
       " \"http://www.w3.org/Graphics/SVG/1.1/DTD/svg11.dtd\">\r\n",
       "<!-- Generated by graphviz version 2.38.0 (20140413.2041)\r\n",
       " -->\r\n",
       "<!-- Title: %3 Pages: 1 -->\r\n",
       "<svg width=\"394pt\" height=\"626pt\"\r\n",
       " viewBox=\"0.00 0.00 394.00 626.00\" xmlns=\"http://www.w3.org/2000/svg\" xmlns:xlink=\"http://www.w3.org/1999/xlink\">\r\n",
       "<g id=\"graph0\" class=\"graph\" transform=\"scale(1 1) rotate(0) translate(4 622)\">\r\n",
       "<title>%3</title>\r\n",
       "<polygon fill=\"white\" stroke=\"none\" points=\"-4,4 -4,-622 390,-622 390,4 -4,4\"/>\r\n",
       "<!-- root -->\r\n",
       "<g id=\"node1\" class=\"node\"><title>root</title>\r\n",
       "<polygon fill=\"none\" stroke=\"black\" points=\"187,-581.5 187,-617.5 243,-617.5 243,-581.5 187,-581.5\"/>\r\n",
       "<text text-anchor=\"start\" x=\"195\" y=\"-595.8\" font-family=\"Times New Roman,serif\" font-size=\"14.00\">ROOT</text>\r\n",
       "</g>\r\n",
       "<!-- struct1 -->\r\n",
       "<g id=\"node2\" class=\"node\"><title>struct1</title>\r\n",
       "<polygon fill=\"#e0eeee\" stroke=\"black\" points=\"114.5,-498.5 114.5,-544.5 199.5,-544.5 199.5,-498.5 114.5,-498.5\"/>\r\n",
       "<text text-anchor=\"start\" x=\"152.5\" y=\"-528.7\" font-family=\"Times New Roman,serif\" font-size=\"16.00\">0</text>\r\n",
       "<text text-anchor=\"start\" x=\"122.5\" y=\"-516.7\" font-family=\"Times New Roman,serif\" font-size=\"11.00\">`a03` &lt; 0.59514</text>\r\n",
       "<text text-anchor=\"start\" x=\"124\" y=\"-505.7\" font-family=\"Times New Roman,serif\" font-size=\"11.00\">LABELS: 0:40</text>\r\n",
       "</g>\r\n",
       "<!-- root&#45;&gt;struct1 -->\r\n",
       "<g id=\"edge1\" class=\"edge\"><title>root&#45;&gt;struct1</title>\r\n",
       "<path fill=\"none\" stroke=\"black\" d=\"M201.839,-581.254C195.363,-572.769 187.368,-562.292 179.93,-552.546\"/>\r\n",
       "<polygon fill=\"black\" stroke=\"black\" points=\"182.708,-550.417 173.859,-544.591 177.143,-554.664 182.708,-550.417\"/>\r\n",
       "</g>\r\n",
       "<!-- struct2 -->\r\n",
       "<g id=\"node3\" class=\"node\"><title>struct2</title>\r\n",
       "<polygon fill=\"none\" stroke=\"black\" points=\"218,-503.5 218,-539.5 328,-539.5 328,-503.5 218,-503.5\"/>\r\n",
       "<text text-anchor=\"start\" x=\"238.5\" y=\"-524.7\" font-family=\"Times New Roman,serif\" font-size=\"11.00\">`a03` ≥ 0.59514</text>\r\n",
       "<text text-anchor=\"start\" x=\"226\" y=\"-512.7\" font-family=\"Times New Roman,serif\" font-size=\"11.00\">LABELS: 0:34, 1:136</text>\r\n",
       "</g>\r\n",
       "<!-- root&#45;&gt;struct2 -->\r\n",
       "<g id=\"edge14\" class=\"edge\"><title>root&#45;&gt;struct2</title>\r\n",
       "<path fill=\"none\" stroke=\"black\" d=\"M228.161,-581.254C235.725,-571.343 245.363,-558.714 253.763,-547.707\"/>\r\n",
       "<polygon fill=\"black\" stroke=\"black\" points=\"256.607,-549.75 259.891,-539.677 251.042,-545.503 256.607,-549.75\"/>\r\n",
       "</g>\r\n",
       "<!-- struct3 -->\r\n",
       "<g id=\"node4\" class=\"node\"><title>struct3</title>\r\n",
       "<polygon fill=\"none\" stroke=\"black\" points=\"159,-420.5 159,-456.5 269,-456.5 269,-420.5 159,-420.5\"/>\r\n",
       "<text text-anchor=\"start\" x=\"177\" y=\"-441.7\" font-family=\"Times New Roman,serif\" font-size=\"11.00\">`a04` &lt; 0.867203</text>\r\n",
       "<text text-anchor=\"start\" x=\"167\" y=\"-429.7\" font-family=\"Times New Roman,serif\" font-size=\"11.00\">LABELS: 0:23, 1:136</text>\r\n",
       "</g>\r\n",
       "<!-- struct2&#45;&gt;struct3 -->\r\n",
       "<g id=\"edge12\" class=\"edge\"><title>struct2&#45;&gt;struct3</title>\r\n",
       "<path fill=\"none\" stroke=\"black\" d=\"M260.488,-503.322C252.352,-492.153 241.603,-477.395 232.49,-464.884\"/>\r\n",
       "<polygon fill=\"black\" stroke=\"black\" points=\"235.211,-462.676 226.494,-456.653 229.553,-466.797 235.211,-462.676\"/>\r\n",
       "</g>\r\n",
       "<!-- struct14 -->\r\n",
       "<g id=\"node15\" class=\"node\"><title>struct14</title>\r\n",
       "<polygon fill=\"#e0eeee\" stroke=\"black\" points=\"287,-415.5 287,-461.5 377,-461.5 377,-415.5 287,-415.5\"/>\r\n",
       "<text text-anchor=\"start\" x=\"327.5\" y=\"-445.7\" font-family=\"Times New Roman,serif\" font-size=\"16.00\">0</text>\r\n",
       "<text text-anchor=\"start\" x=\"295\" y=\"-433.7\" font-family=\"Times New Roman,serif\" font-size=\"11.00\">`a04` ≥ 0.867203</text>\r\n",
       "<text text-anchor=\"start\" x=\"299\" y=\"-422.7\" font-family=\"Times New Roman,serif\" font-size=\"11.00\">LABELS: 0:11</text>\r\n",
       "</g>\r\n",
       "<!-- struct2&#45;&gt;struct14 -->\r\n",
       "<g id=\"edge13\" class=\"edge\"><title>struct2&#45;&gt;struct14</title>\r\n",
       "<path fill=\"none\" stroke=\"black\" d=\"M285.512,-503.322C292.575,-493.626 301.607,-481.226 309.829,-469.938\"/>\r\n",
       "<polygon fill=\"black\" stroke=\"black\" points=\"312.853,-471.731 315.912,-461.587 307.195,-467.609 312.853,-471.731\"/>\r\n",
       "</g>\r\n",
       "<!-- struct4 -->\r\n",
       "<g id=\"node5\" class=\"node\"><title>struct4</title>\r\n",
       "<polygon fill=\"#e0eeee\" stroke=\"black\" points=\"119.5,-332.5 119.5,-378.5 196.5,-378.5 196.5,-332.5 119.5,-332.5\"/>\r\n",
       "<text text-anchor=\"start\" x=\"153.5\" y=\"-362.7\" font-family=\"Times New Roman,serif\" font-size=\"16.00\">0</text>\r\n",
       "<text text-anchor=\"start\" x=\"134\" y=\"-350.7\" font-family=\"Times New Roman,serif\" font-size=\"11.00\">`a01` &lt; 0.5</text>\r\n",
       "<text text-anchor=\"start\" x=\"127.5\" y=\"-339.7\" font-family=\"Times New Roman,serif\" font-size=\"11.00\">LABELS: 0:2</text>\r\n",
       "</g>\r\n",
       "<!-- struct3&#45;&gt;struct4 -->\r\n",
       "<g id=\"edge2\" class=\"edge\"><title>struct3&#45;&gt;struct4</title>\r\n",
       "<path fill=\"none\" stroke=\"black\" d=\"M202.124,-420.322C195.421,-410.626 186.847,-398.226 179.044,-386.938\"/>\r\n",
       "<polygon fill=\"black\" stroke=\"black\" points=\"181.836,-384.822 173.27,-378.587 176.078,-388.803 181.836,-384.822\"/>\r\n",
       "</g>\r\n",
       "<!-- struct5 -->\r\n",
       "<g id=\"node6\" class=\"node\"><title>struct5</title>\r\n",
       "<polygon fill=\"none\" stroke=\"black\" points=\"215,-337.5 215,-373.5 325,-373.5 325,-337.5 215,-337.5\"/>\r\n",
       "<text text-anchor=\"start\" x=\"246\" y=\"-358.7\" font-family=\"Times New Roman,serif\" font-size=\"11.00\">`a01` ≥ 0.5</text>\r\n",
       "<text text-anchor=\"start\" x=\"223\" y=\"-346.7\" font-family=\"Times New Roman,serif\" font-size=\"11.00\">LABELS: 0:21, 1:136</text>\r\n",
       "</g>\r\n",
       "<!-- struct3&#45;&gt;struct5 -->\r\n",
       "<g id=\"edge11\" class=\"edge\"><title>struct3&#45;&gt;struct5</title>\r\n",
       "<path fill=\"none\" stroke=\"black\" d=\"M225.876,-420.322C233.598,-409.153 243.801,-394.395 252.45,-381.884\"/>\r\n",
       "<polygon fill=\"black\" stroke=\"black\" points=\"255.333,-383.869 258.141,-373.653 249.575,-379.888 255.333,-383.869\"/>\r\n",
       "</g>\r\n",
       "<!-- struct6 -->\r\n",
       "<g id=\"node7\" class=\"node\"><title>struct6</title>\r\n",
       "<polygon fill=\"none\" stroke=\"black\" points=\"162.5,-254.5 162.5,-290.5 257.5,-290.5 257.5,-254.5 162.5,-254.5\"/>\r\n",
       "<text text-anchor=\"start\" x=\"173\" y=\"-275.7\" font-family=\"Times New Roman,serif\" font-size=\"11.00\">`a03` &lt; 0.714375</text>\r\n",
       "<text text-anchor=\"start\" x=\"170.5\" y=\"-263.7\" font-family=\"Times New Roman,serif\" font-size=\"11.00\">LABELS: 0:5, 1:6</text>\r\n",
       "</g>\r\n",
       "<!-- struct5&#45;&gt;struct6 -->\r\n",
       "<g id=\"edge9\" class=\"edge\"><title>struct5&#45;&gt;struct6</title>\r\n",
       "<path fill=\"none\" stroke=\"black\" d=\"M257.276,-337.322C249.003,-326.153 238.071,-311.395 228.803,-298.884\"/>\r\n",
       "<polygon fill=\"black\" stroke=\"black\" points=\"231.471,-296.606 222.706,-290.653 225.846,-300.772 231.471,-296.606\"/>\r\n",
       "</g>\r\n",
       "<!-- struct13 -->\r\n",
       "<g id=\"node14\" class=\"node\"><title>struct13</title>\r\n",
       "<polygon fill=\"#e0eeee\" stroke=\"black\" points=\"276,-249.5 276,-295.5 386,-295.5 386,-249.5 276,-249.5\"/>\r\n",
       "<text text-anchor=\"start\" x=\"326.5\" y=\"-279.7\" font-family=\"Times New Roman,serif\" font-size=\"16.00\">1</text>\r\n",
       "<text text-anchor=\"start\" x=\"294\" y=\"-267.7\" font-family=\"Times New Roman,serif\" font-size=\"11.00\">`a03` ≥ 0.714375</text>\r\n",
       "<text text-anchor=\"start\" x=\"284\" y=\"-256.7\" font-family=\"Times New Roman,serif\" font-size=\"11.00\">LABELS: 0:16, 1:130</text>\r\n",
       "</g>\r\n",
       "<!-- struct5&#45;&gt;struct13 -->\r\n",
       "<g id=\"edge10\" class=\"edge\"><title>struct5&#45;&gt;struct13</title>\r\n",
       "<path fill=\"none\" stroke=\"black\" d=\"M282.937,-337.322C290.31,-327.531 299.76,-314.982 308.327,-303.606\"/>\r\n",
       "<polygon fill=\"black\" stroke=\"black\" points=\"311.147,-305.68 314.367,-295.587 305.555,-301.469 311.147,-305.68\"/>\r\n",
       "</g>\r\n",
       "<!-- struct7 -->\r\n",
       "<g id=\"node8\" class=\"node\"><title>struct7</title>\r\n",
       "<polygon fill=\"none\" stroke=\"black\" points=\"107.5,-171.5 107.5,-207.5 202.5,-207.5 202.5,-171.5 107.5,-171.5\"/>\r\n",
       "<text text-anchor=\"start\" x=\"118\" y=\"-192.7\" font-family=\"Times New Roman,serif\" font-size=\"11.00\">`a03` &lt; 0.680555</text>\r\n",
       "<text text-anchor=\"start\" x=\"115.5\" y=\"-180.7\" font-family=\"Times New Roman,serif\" font-size=\"11.00\">LABELS: 0:2, 1:6</text>\r\n",
       "</g>\r\n",
       "<!-- struct6&#45;&gt;struct7 -->\r\n",
       "<g id=\"edge7\" class=\"edge\"><title>struct6&#45;&gt;struct7</title>\r\n",
       "<path fill=\"none\" stroke=\"black\" d=\"M198.336,-254.322C190.825,-243.261 180.924,-228.679 172.482,-216.246\"/>\r\n",
       "<polygon fill=\"black\" stroke=\"black\" points=\"175.16,-213.96 166.647,-207.653 169.369,-217.892 175.16,-213.96\"/>\r\n",
       "</g>\r\n",
       "<!-- struct12 -->\r\n",
       "<g id=\"node13\" class=\"node\"><title>struct12</title>\r\n",
       "<polygon fill=\"#e0eeee\" stroke=\"black\" points=\"221,-166.5 221,-212.5 311,-212.5 311,-166.5 221,-166.5\"/>\r\n",
       "<text text-anchor=\"start\" x=\"261.5\" y=\"-196.7\" font-family=\"Times New Roman,serif\" font-size=\"16.00\">0</text>\r\n",
       "<text text-anchor=\"start\" x=\"229\" y=\"-184.7\" font-family=\"Times New Roman,serif\" font-size=\"11.00\">`a03` ≥ 0.680555</text>\r\n",
       "<text text-anchor=\"start\" x=\"235.5\" y=\"-173.7\" font-family=\"Times New Roman,serif\" font-size=\"11.00\">LABELS: 0:3</text>\r\n",
       "</g>\r\n",
       "<!-- struct6&#45;&gt;struct12 -->\r\n",
       "<g id=\"edge8\" class=\"edge\"><title>struct6&#45;&gt;struct12</title>\r\n",
       "<path fill=\"none\" stroke=\"black\" d=\"M221.876,-254.322C228.579,-244.626 237.153,-232.226 244.956,-220.938\"/>\r\n",
       "<polygon fill=\"black\" stroke=\"black\" points=\"247.922,-222.803 250.73,-212.587 242.164,-218.822 247.922,-222.803\"/>\r\n",
       "</g>\r\n",
       "<!-- struct8 -->\r\n",
       "<g id=\"node9\" class=\"node\"><title>struct8</title>\r\n",
       "<polygon fill=\"none\" stroke=\"black\" points=\"52.5,-88.5 52.5,-124.5 147.5,-124.5 147.5,-88.5 52.5,-88.5\"/>\r\n",
       "<text text-anchor=\"start\" x=\"63\" y=\"-109.7\" font-family=\"Times New Roman,serif\" font-size=\"11.00\">`a03` &lt; 0.643705</text>\r\n",
       "<text text-anchor=\"start\" x=\"60.5\" y=\"-97.7\" font-family=\"Times New Roman,serif\" font-size=\"11.00\">LABELS: 0:2, 1:2</text>\r\n",
       "</g>\r\n",
       "<!-- struct7&#45;&gt;struct8 -->\r\n",
       "<g id=\"edge5\" class=\"edge\"><title>struct7&#45;&gt;struct8</title>\r\n",
       "<path fill=\"none\" stroke=\"black\" d=\"M143.336,-171.322C135.825,-160.261 125.924,-145.679 117.482,-133.246\"/>\r\n",
       "<polygon fill=\"black\" stroke=\"black\" points=\"120.16,-130.96 111.647,-124.653 114.369,-134.892 120.16,-130.96\"/>\r\n",
       "</g>\r\n",
       "<!-- struct11 -->\r\n",
       "<g id=\"node12\" class=\"node\"><title>struct11</title>\r\n",
       "<polygon fill=\"#e0eeee\" stroke=\"black\" points=\"166,-83.5 166,-129.5 256,-129.5 256,-83.5 166,-83.5\"/>\r\n",
       "<text text-anchor=\"start\" x=\"206.5\" y=\"-113.7\" font-family=\"Times New Roman,serif\" font-size=\"16.00\">1</text>\r\n",
       "<text text-anchor=\"start\" x=\"174\" y=\"-101.7\" font-family=\"Times New Roman,serif\" font-size=\"11.00\">`a03` ≥ 0.643705</text>\r\n",
       "<text text-anchor=\"start\" x=\"180.5\" y=\"-90.7\" font-family=\"Times New Roman,serif\" font-size=\"11.00\">LABELS: 1:4</text>\r\n",
       "</g>\r\n",
       "<!-- struct7&#45;&gt;struct11 -->\r\n",
       "<g id=\"edge6\" class=\"edge\"><title>struct7&#45;&gt;struct11</title>\r\n",
       "<path fill=\"none\" stroke=\"black\" d=\"M166.876,-171.322C173.579,-161.626 182.153,-149.226 189.956,-137.938\"/>\r\n",
       "<polygon fill=\"black\" stroke=\"black\" points=\"192.922,-139.803 195.73,-129.587 187.164,-135.822 192.922,-139.803\"/>\r\n",
       "</g>\r\n",
       "<!-- struct9 -->\r\n",
       "<g id=\"node10\" class=\"node\"><title>struct9</title>\r\n",
       "<polygon fill=\"#e0eeee\" stroke=\"black\" points=\"0,-0.5 0,-46.5 90,-46.5 90,-0.5 0,-0.5\"/>\r\n",
       "<text text-anchor=\"start\" x=\"40.5\" y=\"-30.7\" font-family=\"Times New Roman,serif\" font-size=\"16.00\">0</text>\r\n",
       "<text text-anchor=\"start\" x=\"8\" y=\"-18.7\" font-family=\"Times New Roman,serif\" font-size=\"11.00\">`a04` &lt; 0.395455</text>\r\n",
       "<text text-anchor=\"start\" x=\"14.5\" y=\"-7.7\" font-family=\"Times New Roman,serif\" font-size=\"11.00\">LABELS: 0:1</text>\r\n",
       "</g>\r\n",
       "<!-- struct8&#45;&gt;struct9 -->\r\n",
       "<g id=\"edge3\" class=\"edge\"><title>struct8&#45;&gt;struct9</title>\r\n",
       "<path fill=\"none\" stroke=\"black\" d=\"M88.3359,-88.322C81.7525,-78.6264 73.3322,-66.2256 65.6679,-54.9381\"/>\r\n",
       "<polygon fill=\"black\" stroke=\"black\" points=\"68.5103,-52.8937 59.9972,-46.5868 62.7192,-56.826 68.5103,-52.8937\"/>\r\n",
       "</g>\r\n",
       "<!-- struct10 -->\r\n",
       "<g id=\"node11\" class=\"node\"><title>struct10</title>\r\n",
       "<polygon fill=\"#e0eeee\" stroke=\"black\" points=\"108.5,-0.5 108.5,-46.5 203.5,-46.5 203.5,-0.5 108.5,-0.5\"/>\r\n",
       "<text text-anchor=\"start\" x=\"151.5\" y=\"-30.7\" font-family=\"Times New Roman,serif\" font-size=\"16.00\">1</text>\r\n",
       "<text text-anchor=\"start\" x=\"119\" y=\"-18.7\" font-family=\"Times New Roman,serif\" font-size=\"11.00\">`a04` ≥ 0.395455</text>\r\n",
       "<text text-anchor=\"start\" x=\"116.5\" y=\"-7.7\" font-family=\"Times New Roman,serif\" font-size=\"11.00\">LABELS: 0:1, 1:2</text>\r\n",
       "</g>\r\n",
       "<!-- struct8&#45;&gt;struct10 -->\r\n",
       "<g id=\"edge4\" class=\"edge\"><title>struct8&#45;&gt;struct10</title>\r\n",
       "<path fill=\"none\" stroke=\"black\" d=\"M111.876,-88.322C118.579,-78.6264 127.153,-66.2256 134.956,-54.9381\"/>\r\n",
       "<polygon fill=\"black\" stroke=\"black\" points=\"137.922,-56.8028 140.73,-46.5868 132.164,-52.822 137.922,-56.8028\"/>\r\n",
       "</g>\r\n",
       "</g>\r\n",
       "</svg>\r\n"
      ],
      "text/plain": [
       "ROOT\n",
       "├── SCORE = 0 WHEN `a03` < 0.59514 (COUNTS: 0:40)\n",
       "└── WHEN `a03` ≥ 0.59514 (COUNTS: 0:34, 1:136)\n",
       "       ├── WHEN `a04` < 0.867203 (COUNTS: 0:23, 1:136)\n",
       "       │    ├── SCORE = 0 WHEN `a01` < 0.5 (COUNTS: 0:2)\n",
       "       │    └── WHEN `a01` ≥ 0.5 (COUNTS: 0:21, 1:136)\n",
       "       │           ├── WHEN `a03` < 0.714375 (COUNTS: 0:5, 1:6)\n",
       "       │           │    ├── WHEN `a03` < 0.680555 (COUNTS: 0:2, 1:6)\n",
       "       │           │    │    ├── WHEN `a03` < 0.643705 (COUNTS: 0:2, 1:2)\n",
       "       │           │    │    │    ├── SCORE = 0 WHEN `a04` < 0.395455 (COUNTS: 0:1)\n",
       "       │           │    │    │    └── SCORE = 1 WHEN `a04` ≥ 0.395455 (COUNTS: 0:1, 1:2)\n",
       "       │           │    │    └── SCORE = 1 WHEN `a03` ≥ 0.643705 (COUNTS: 1:4)\n",
       "       │           │    └── SCORE = 0 WHEN `a03` ≥ 0.680555 (COUNTS: 0:3)\n",
       "       │           └── SCORE = 1 WHEN `a03` ≥ 0.714375 (COUNTS: 0:16, 1:130)\n",
       "       └── SCORE = 0 WHEN `a04` ≥ 0.867203 (COUNTS: 0:11)"
      ]
     },
     "execution_count": 4,
     "metadata": {},
     "output_type": "execute_result"
    }
   ],
   "source": [
    "from odps.ml.classifiers import *\n",
    "train, test = df.min_max_scale(['a01', 'a02', 'a03', 'a04']).split(0.6)\n",
    "\n",
    "lr = RandomForests(tree_num=10)\n",
    "model = lr.train(train)\n",
    "result = model.execute()",
    "result[0]"
   ]
  },
  {
   "cell_type": "markdown",
   "metadata": {
    "deletable": true,
    "editable": true
   },
   "source": [
    "Models can be used for prediction using **predict** method. Here we predict labels on the test set using the model we just created and then store the result. DataFrame methods can be used to do some statistics."
   ]
  },
  {
   "cell_type": "code",
   "execution_count": 5,
   "metadata": {
    "collapsed": false,
    "deletable": true,
    "editable": true
   },
   "outputs": [
    {
     "data": {
      "text/html": [
       "<div>\n",
       "<table border=\"1\" class=\"dataframe\">\n",
       "  <thead>\n",
       "    <tr style=\"text-align: right;\">\n",
       "      <th></th>\n",
       "      <th>prediction_result</th>\n",
       "      <th>count</th>\n",
       "    </tr>\n",
       "  </thead>\n",
       "  <tbody>\n",
       "    <tr>\n",
       "      <th>0</th>\n",
       "      <td>1</td>\n",
       "      <td>98</td>\n",
       "    </tr>\n",
       "    <tr>\n",
       "      <th>1</th>\n",
       "      <td>0</td>\n",
       "      <td>43</td>\n",
       "    </tr>\n",
       "  </tbody>\n",
       "</table>\n",
       "</div>"
      ],
      "text/plain": [
       "   prediction_result  count\n",
       "0                  1     98\n",
       "1                  0     43"
      ]
     },
     "execution_count": 5,
     "metadata": {},
     "output_type": "execute_result"
    }
   ],
   "source": [
    "predicted = model.predict(test)\n",
    "predicted.persist('test_out')\n",
    "predicted.prediction_result.value_counts().to_pandas()"
   ]
  },
  {
   "cell_type": "markdown",
   "metadata": {
    "deletable": true,
    "editable": true
   },
   "source": [
    "Then we calculate and plot the ROC curve for the estimation. The true label column is the column designated in field roles, while the predicted label column and score column are 'prediction_result' and 'prediction_score' by default, respectively. After obtaining false positive ratio and true positive ratio, we can plot an ROC curve with *matplotlib*."
   ]
  },
  {
   "cell_type": "code",
   "execution_count": 6,
   "metadata": {
    "collapsed": false,
    "deletable": true,
    "editable": true
   },
   "outputs": [
    {
     "data": {
      "text/plain": [
       "[<matplotlib.lines.Line2D at 0xccd43c8>]"
      ]
     },
     "execution_count": 6,
     "metadata": {},
     "output_type": "execute_result"
    },
    {
     "data": {
      "image/png": "[encoded data removed]",
      "text/plain": [
       "<matplotlib.figure.Figure at 0x7af4ef0>"
      ]
     },
     "metadata": {},
     "output_type": "display_data"
    }
   ],
   "source": [
    "from odps.ml.metrics import roc_curve\n",
    "import matplotlib.pyplot as plt\n",
    "%matplotlib inline\n",
    "\n",
    "# roc_curve is also an operational node\n",
    "fpr, tpr, thresh = roc_curve(predicted)\n",
    "plt.plot(fpr, tpr)"
   ]
  },
  {
   "cell_type": "markdown",
   "metadata": {
    "deletable": true,
    "editable": true
   },
   "source": [
    "AUC can also be calculated. As we have already run roc_curve, the result is cached and *roc_auc_curve* returns immediately."
   ]
  },
  {
   "cell_type": "code",
   "execution_count": 7,
   "metadata": {
    "collapsed": false,
    "deletable": true,
    "editable": true,
    "scrolled": true
   },
   "outputs": [
    {
     "data": {
      "text/plain": [
       "0.33545808124459808"
      ]
     },
     "execution_count": 7,
     "metadata": {},
     "output_type": "execute_result"
    }
   ],
   "source": [
    "from odps.ml.metrics import roc_auc_score\n",
    "roc_auc_score(predicted)"
   ]
  },
  {
   "cell_type": "code",
   "execution_count": null,
   "metadata": {
    "collapsed": true
   },
   "outputs": [],
   "source": []
  }
 ],
 "metadata": {
  "kernelspec": {
   "display_name": "Python 2",
   "language": "python",
   "name": "python2"
  },
  "language_info": {
   "codemirror_mode": {
    "name": "ipython",
    "version": 2
   },
   "file_extension": ".py",
   "mimetype": "text/x-python",
   "name": "python",
   "nbconvert_exporter": "python",
   "pygments_lexer": "ipython2",
   "version": "2.7.13"
  },
  "widgets": {
   "state": {
    "af7b5fe3826c43a5aa9a7c0e267761e0": {
     "views": [
      {
       "cell_index": 2
      }
     ]
    }
   },
   "version": "1.2.0"
  }
 },
 "nbformat": 4,
 "nbformat_minor": 0
}
