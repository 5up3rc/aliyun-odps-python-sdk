{
 "cells": [
  {
   "cell_type": "markdown",
   "metadata": {},
   "source": [
    "# An introduction to PyODPS PAI SDK\n",
    "## What is PAI SDK\n",
    "\n",
    "PAI SDK wrapped PAI commands in ODPS console to a more programmer-friendly python interface. Unlike the case in PAI command, where users need to deal with inputs, outputs and columns themselves during the whole workflow, PAI SDK helps solve all these problems. First, PAI SDK automatically designating intermediate tables and destroying them when they are not used. Secondly, by introducing **DataSet**, users are able to designate fields as label, weight or other algorithm-specific roles, which avoids designating these parameters repeatedly."
   ]
  },
  {
   "cell_type": "markdown",
   "metadata": {},
   "source": [
    "## PAIContext\n",
    "PAIContext is the singleton object holding all the objects of PAI. Data sets and models as well as their relationships are kept and evaluated in PAIContext. When executing a code-defined flow, PAIContext will seek all depended nodes, create temporary tables, generate corresponding PAI commands and run these nodes in topological order.\n",
    "\n",
    "Here we create a PAIContext object with a created ODPS object."
   ]
  },
  {
   "cell_type": "code",
   "execution_count": 1,
   "metadata": {
    "collapsed": false
   },
   "outputs": [],
   "source": [
    "from odps import ODPS\n",
    "from odps.pai.context import PAIContext\n",
    "o = ODPS(access_id, secret_access_key, project=project, endpoint=endpoint)\n",
    "pai_context = PAIContext(o)"
   ]
  },
  {
   "cell_type": "markdown",
   "metadata": {},
   "source": [
    "## DataSets\n",
    "Almost all the operations in PAI SDK are performed on DataSets. A DataSet is a wrapper for a table or some partitions in a table, accompanied with role definitions for fields. Field roles designate the functionality of a field, i.e., label, weight or feature.\n",
    "\n",
    "PAI SDK provides some example data sets in *odps.pai.datasets.examples*.\n",
    "\n",
    "Here we create an example ionosphere data set, use DataFrame to select some fields and grab summary from it."
   ]
  },
  {
   "cell_type": "code",
   "execution_count": 2,
   "metadata": {
    "collapsed": false
   },
   "outputs": [
    {
     "data": {
      "text/html": [
       "<table width=\"100%\"><thead><tr><th></th><th>field_role</th><th>data_type</th><th>count_total</th><th>count_valid</th><th>count_missing</th><th>count_unique</th><th>values_unique</th><th>min</th><th>max</th><th>median</th><th>mean</th><th>standard_deviation</th></tr></thead><tbody><tr><td>a01</td><td>FEATURE</td><td>Numerical\u0000</td><td>351</td><td>351</td><td>0</td><td>None</td><td>None</td><td>0.0</td><td>1.0</td><td>1.0</td><td>0.891737891738</td><td>0.311154715242</td></tr><tr><td>a02</td><td>FEATURE</td><td>Numerical\u0000</td><td>351</td><td>351</td><td>0</td><td>None</td><td>None</td><td>0.0</td><td>0.0</td><td>0.0</td><td>0.0</td><td>0.0</td></tr><tr><td>a03</td><td>FEATURE</td><td>Numerical\u0000</td><td>351</td><td>351</td><td>0</td><td>None</td><td>None</td><td>-1.0</td><td>1.0</td><td>0.87111</td><td>0.641341851852</td><td>0.49770820252</td></tr><tr><td>a04</td><td>FEATURE</td><td>Numerical\u0000</td><td>351</td><td>351</td><td>0</td><td>None</td><td>None</td><td>-1.0</td><td>1.0</td><td>0.01631</td><td>0.0443718803419</td><td>0.441434779862</td></tr><tr><td>class</td><td>LABEL</td><td>Numerical\u0000</td><td>351</td><td>351</td><td>0</td><td>None</td><td>None</td><td>0.0</td><td>1.0</td><td>1.0</td><td>0.641025641026</td><td>0.480384461415</td></tr></tbody></table>"
      ],
      "text/plain": [
       "{u'a01': OrderedDict([('field_role', 'FEATURE'),\n",
       "              ('data_type', u'Numerical\\x00'),\n",
       "              ('count_total', 351),\n",
       "              ('count_valid', 351),\n",
       "              ('count_missing', 0),\n",
       "              ('count_unique', None),\n",
       "              ('values_unique', None),\n",
       "              ('min', 0.0),\n",
       "              ('max', 1.0),\n",
       "              ('median', 1.0),\n",
       "              ('mean', 0.8917378917378918),\n",
       "              ('standard_deviation', 0.31115471524188226)]),\n",
       " u'a02': OrderedDict([('field_role', 'FEATURE'),\n",
       "              ('data_type', u'Numerical\\x00'),\n",
       "              ('count_total', 351),\n",
       "              ('count_valid', 351),\n",
       "              ('count_missing', 0),\n",
       "              ('count_unique', None),\n",
       "              ('values_unique', None),\n",
       "              ('min', 0.0),\n",
       "              ('max', 0.0),\n",
       "              ('median', 0.0),\n",
       "              ('mean', 0.0),\n",
       "              ('standard_deviation', 0.0)]),\n",
       " u'a03': OrderedDict([('field_role', 'FEATURE'),\n",
       "              ('data_type', u'Numerical\\x00'),\n",
       "              ('count_total', 351),\n",
       "              ('count_valid', 351),\n",
       "              ('count_missing', 0),\n",
       "              ('count_unique', None),\n",
       "              ('values_unique', None),\n",
       "              ('min', -1.0),\n",
       "              ('max', 1.0),\n",
       "              ('median', 0.87111),\n",
       "              ('mean', 0.6413418518518519),\n",
       "              ('standard_deviation', 0.49770820252001424)]),\n",
       " u'a04': OrderedDict([('field_role', 'FEATURE'),\n",
       "              ('data_type', u'Numerical\\x00'),\n",
       "              ('count_total', 351),\n",
       "              ('count_valid', 351),\n",
       "              ('count_missing', 0),\n",
       "              ('count_unique', None),\n",
       "              ('values_unique', None),\n",
       "              ('min', -1.0),\n",
       "              ('max', 1.0),\n",
       "              ('median', 0.01631),\n",
       "              ('mean', 0.04437188034188031),\n",
       "              ('standard_deviation', 0.44143477986207963)]),\n",
       " u'class': OrderedDict([('field_role', 'LABEL'),\n",
       "              ('data_type', u'Numerical\\x00'),\n",
       "              ('count_total', 351),\n",
       "              ('count_valid', 351),\n",
       "              ('count_missing', 0),\n",
       "              ('count_unique', None),\n",
       "              ('values_unique', None),\n",
       "              ('min', 0.0),\n",
       "              ('max', 1.0),\n",
       "              ('median', 1.0),\n",
       "              ('mean', 0.6410256410256411),\n",
       "              ('standard_deviation', 0.48038446141526137)])}"
      ]
     },
     "execution_count": 2,
     "metadata": {},
     "output_type": "execute_result"
    }
   ],
   "source": [
    "from odps.pai.datasets import create_ionosphere\n",
    "dataset = create_ionosphere(pai_context)['a01', 'a02', 'a03', 'a04', 'class']\n",
    "dataset.calc_summary()"
   ]
  },
  {
   "cell_type": "markdown",
   "metadata": {},
   "source": [
    "You can also create a data set from PAIContext with *odps_data* function, which accepts the name of a table and partition specification if exists. Field roles can be configured in *kwargs* upon creation, or use *set_role_name_field* method to create a new one upon existing data set."
   ]
  },
  {
   "cell_type": "code",
   "execution_count": 3,
   "metadata": {
    "collapsed": true
   },
   "outputs": [],
   "source": [
    "# We assume that the table ionosphere already exists\n",
    "dataset2 = pai_context.odps_data('ionosphere', label='class')"
   ]
  },
  {
   "cell_type": "markdown",
   "metadata": {},
   "source": [
    "There are other menber functions in DataSet. *append_id* can append an ID field to every row. *sample* can sample the data set with given ratio. *split* can split the data set into a train set and a test set.\n",
    "\n",
    "Here we split the original data set into a train set and a test set."
   ]
  },
  {
   "cell_type": "code",
   "execution_count": 4,
   "metadata": {
    "collapsed": true
   },
   "outputs": [],
   "source": [
    "train, test = dataset.split(0.6)"
   ]
  },
  {
   "cell_type": "markdown",
   "metadata": {},
   "source": [
    "## Algorithms\n",
    "PAI SDK wraps XFlow algorithms and offline models, so you can do training and prediction in python without knowledge of PAI console or PAI command. Aside from model prediction, there are three types of algorithms in PAI SDK: trainers, transformers and metrics.\n",
    "\n",
    "Trainer algorithms are defined as classes and have a *train* method, which accepts a labeled data set and outputs a TrainedModel instance, which wraps an offline model in ODPS. You can call *predict* method of a TrainedModel instance to achieve prediction results.\n",
    "\n",
    "Transformer algorithms are mostly defined as classes and have a *transform* method, which accepts one or more data sets and returns a transformed data set or a tuple of data sets if there are multiple data sets to output.\n",
    "\n",
    "Metrics algorithms are mostly defined as methods which accept input data and parameters in args and output calculated metrics.\n",
    "\n",
    "Note that *train* on trainers or *transform* on transformers will NOT execute the flow, unless summarization or IO methods such as *collect*, *calc_summary* or *store_odps* on data sets or models are called. As metrics are summarization algorithms themselves, the flow will be executed immediately.\n",
    "\n",
    "Here we normalize the data set, split to train and test set, train a logistic regression algorithm and then visualize the first decision tree in the forest."
   ]
  },
  {
   "cell_type": "code",
   "execution_count": 5,
   "metadata": {
    "collapsed": false
   },
   "outputs": [
    {
     "data": {
      "image/svg+xml": [
       "<?xml version=\"1.0\" encoding=\"UTF-8\" standalone=\"no\"?>\r\n",
       "<!DOCTYPE svg PUBLIC \"-//W3C//DTD SVG 1.1//EN\"\r\n",
       " \"http://www.w3.org/Graphics/SVG/1.1/DTD/svg11.dtd\">\r\n",
       "<!-- Generated by graphviz version 2.38.0 (20140413.2041)\r\n",
       " -->\r\n",
       "<!-- Title: %3 Pages: 1 -->\r\n",
       "<svg width=\"376pt\" height=\"543pt\"\r\n",
       " viewBox=\"0.00 0.00 375.50 543.00\" xmlns=\"http://www.w3.org/2000/svg\" xmlns:xlink=\"http://www.w3.org/1999/xlink\">\r\n",
       "<g id=\"graph0\" class=\"graph\" transform=\"scale(1 1) rotate(0) translate(4 539)\">\r\n",
       "<title>%3</title>\r\n",
       "<polygon fill=\"white\" stroke=\"none\" points=\"-4,4 -4,-539 371.5,-539 371.5,4 -4,4\"/>\r\n",
       "<!-- root -->\r\n",
       "<g id=\"node1\" class=\"node\"><title>root</title>\r\n",
       "<polygon fill=\"none\" stroke=\"black\" points=\"70,-498.5 70,-534.5 126,-534.5 126,-498.5 70,-498.5\"/>\r\n",
       "<text text-anchor=\"middle\" x=\"98\" y=\"-512.8\" font-family=\"Times New Roman,serif\" font-size=\"14.00\">ROOT</text>\r\n",
       "</g>\r\n",
       "<!-- struct1 -->\r\n",
       "<g id=\"node2\" class=\"node\"><title>struct1</title>\r\n",
       "<polygon fill=\"#e0eeee\" stroke=\"black\" points=\"0,-415.5 0,-461.5 82,-461.5 82,-415.5 0,-415.5\"/>\r\n",
       "<text text-anchor=\"start\" x=\"36.5\" y=\"-445.7\" font-family=\"Times New Roman,serif\" font-size=\"16.00\">0</text>\r\n",
       "<text text-anchor=\"start\" x=\"17\" y=\"-433.7\" font-family=\"Times New Roman,serif\" font-size=\"11.00\">`a01` &lt; 0.5</text>\r\n",
       "<text text-anchor=\"start\" x=\"8\" y=\"-422.7\" font-family=\"Times New Roman,serif\" font-size=\"11.00\">LABELS: 0:25</text>\r\n",
       "</g>\r\n",
       "<!-- root&#45;&gt;struct1 -->\r\n",
       "<g id=\"edge1\" class=\"edge\"><title>root&#45;&gt;struct1</title>\r\n",
       "<path fill=\"none\" stroke=\"black\" d=\"M85.0658,-498.254C78.7655,-489.854 71.0011,-479.501 63.7539,-469.839\"/>\r\n",
       "<polygon fill=\"black\" stroke=\"black\" points=\"66.3682,-467.491 57.5681,-461.591 60.7681,-471.691 66.3682,-467.491\"/>\r\n",
       "</g>\r\n",
       "<!-- struct2 -->\r\n",
       "<g id=\"node3\" class=\"node\"><title>struct2</title>\r\n",
       "<polygon fill=\"none\" stroke=\"black\" points=\"100,-420.5 100,-456.5 210,-456.5 210,-420.5 100,-420.5\"/>\r\n",
       "<text text-anchor=\"start\" x=\"131\" y=\"-441.7\" font-family=\"Times New Roman,serif\" font-size=\"11.00\">`a01` ≥ 0.5</text>\r\n",
       "<text text-anchor=\"start\" x=\"108\" y=\"-429.7\" font-family=\"Times New Roman,serif\" font-size=\"11.00\">LABELS: 0:57, 1:134</text>\r\n",
       "</g>\r\n",
       "<!-- root&#45;&gt;struct2 -->\r\n",
       "<g id=\"edge12\" class=\"edge\"><title>root&#45;&gt;struct2</title>\r\n",
       "<path fill=\"none\" stroke=\"black\" d=\"M110.934,-498.254C118.368,-488.343 127.839,-475.714 136.095,-464.707\"/>\r\n",
       "<polygon fill=\"black\" stroke=\"black\" points=\"138.917,-466.777 142.117,-456.677 133.317,-462.577 138.917,-466.777\"/>\r\n",
       "</g>\r\n",
       "<!-- struct3 -->\r\n",
       "<g id=\"node4\" class=\"node\"><title>struct3</title>\r\n",
       "<polygon fill=\"#e0eeee\" stroke=\"black\" points=\"51,-332.5 51,-378.5 141,-378.5 141,-332.5 51,-332.5\"/>\r\n",
       "<text text-anchor=\"start\" x=\"91.5\" y=\"-362.7\" font-family=\"Times New Roman,serif\" font-size=\"16.00\">0</text>\r\n",
       "<text text-anchor=\"start\" x=\"59\" y=\"-350.7\" font-family=\"Times New Roman,serif\" font-size=\"11.00\">`a03` &lt; 0.591635</text>\r\n",
       "<text text-anchor=\"start\" x=\"63\" y=\"-339.7\" font-family=\"Times New Roman,serif\" font-size=\"11.00\">LABELS: 0:22</text>\r\n",
       "</g>\r\n",
       "<!-- struct2&#45;&gt;struct3 -->\r\n",
       "<g id=\"edge2\" class=\"edge\"><title>struct2&#45;&gt;struct3</title>\r\n",
       "<path fill=\"none\" stroke=\"black\" d=\"M142.488,-420.322C135.425,-410.626 126.393,-398.226 118.171,-386.938\"/>\r\n",
       "<polygon fill=\"black\" stroke=\"black\" points=\"120.805,-384.609 112.088,-378.587 115.147,-388.731 120.805,-384.609\"/>\r\n",
       "</g>\r\n",
       "<!-- struct4 -->\r\n",
       "<g id=\"node5\" class=\"node\"><title>struct4</title>\r\n",
       "<polygon fill=\"none\" stroke=\"black\" points=\"159,-337.5 159,-373.5 269,-373.5 269,-337.5 159,-337.5\"/>\r\n",
       "<text text-anchor=\"start\" x=\"177\" y=\"-358.7\" font-family=\"Times New Roman,serif\" font-size=\"11.00\">`a03` ≥ 0.591635</text>\r\n",
       "<text text-anchor=\"start\" x=\"167\" y=\"-346.7\" font-family=\"Times New Roman,serif\" font-size=\"11.00\">LABELS: 0:35, 1:134</text>\r\n",
       "</g>\r\n",
       "<!-- struct2&#45;&gt;struct4 -->\r\n",
       "<g id=\"edge11\" class=\"edge\"><title>struct2&#45;&gt;struct4</title>\r\n",
       "<path fill=\"none\" stroke=\"black\" d=\"M167.512,-420.322C175.648,-409.153 186.397,-394.395 195.51,-381.884\"/>\r\n",
       "<polygon fill=\"black\" stroke=\"black\" points=\"198.447,-383.797 201.506,-373.653 192.789,-379.676 198.447,-383.797\"/>\r\n",
       "</g>\r\n",
       "<!-- struct5 -->\r\n",
       "<g id=\"node6\" class=\"node\"><title>struct5</title>\r\n",
       "<polygon fill=\"none\" stroke=\"black\" points=\"98.5,-254.5 98.5,-290.5 203.5,-290.5 203.5,-254.5 98.5,-254.5\"/>\r\n",
       "<text text-anchor=\"start\" x=\"114\" y=\"-275.7\" font-family=\"Times New Roman,serif\" font-size=\"11.00\">`a03` &lt; 0.869735</text>\r\n",
       "<text text-anchor=\"start\" x=\"106.5\" y=\"-263.7\" font-family=\"Times New Roman,serif\" font-size=\"11.00\">LABELS: 0:16, 1:31</text>\r\n",
       "</g>\r\n",
       "<!-- struct4&#45;&gt;struct5 -->\r\n",
       "<g id=\"edge9\" class=\"edge\"><title>struct4&#45;&gt;struct5</title>\r\n",
       "<path fill=\"none\" stroke=\"black\" d=\"M200.639,-337.322C191.953,-326.153 180.474,-311.395 170.743,-298.884\"/>\r\n",
       "<polygon fill=\"black\" stroke=\"black\" points=\"173.244,-296.398 164.341,-290.653 167.718,-300.696 173.244,-296.398\"/>\r\n",
       "</g>\r\n",
       "<!-- struct12 -->\r\n",
       "<g id=\"node13\" class=\"node\"><title>struct12</title>\r\n",
       "<polygon fill=\"#e0eeee\" stroke=\"black\" points=\"222,-249.5 222,-295.5 332,-295.5 332,-249.5 222,-249.5\"/>\r\n",
       "<text text-anchor=\"start\" x=\"272.5\" y=\"-279.7\" font-family=\"Times New Roman,serif\" font-size=\"16.00\">1</text>\r\n",
       "<text text-anchor=\"start\" x=\"240\" y=\"-267.7\" font-family=\"Times New Roman,serif\" font-size=\"11.00\">`a03` ≥ 0.869735</text>\r\n",
       "<text text-anchor=\"start\" x=\"230\" y=\"-256.7\" font-family=\"Times New Roman,serif\" font-size=\"11.00\">LABELS: 0:19, 1:103</text>\r\n",
       "</g>\r\n",
       "<!-- struct4&#45;&gt;struct12 -->\r\n",
       "<g id=\"edge10\" class=\"edge\"><title>struct4&#45;&gt;struct12</title>\r\n",
       "<path fill=\"none\" stroke=\"black\" d=\"M227.361,-337.322C234.976,-327.531 244.736,-314.982 253.584,-303.606\"/>\r\n",
       "<polygon fill=\"black\" stroke=\"black\" points=\"256.445,-305.629 259.821,-295.587 250.919,-301.332 256.445,-305.629\"/>\r\n",
       "</g>\r\n",
       "<!-- struct6 -->\r\n",
       "<g id=\"node7\" class=\"node\"><title>struct6</title>\r\n",
       "<polygon fill=\"#e0eeee\" stroke=\"black\" points=\"39.5,-166.5 39.5,-212.5 144.5,-212.5 144.5,-166.5 39.5,-166.5\"/>\r\n",
       "<text text-anchor=\"start\" x=\"87.5\" y=\"-196.7\" font-family=\"Times New Roman,serif\" font-size=\"16.00\">1</text>\r\n",
       "<text text-anchor=\"start\" x=\"55\" y=\"-184.7\" font-family=\"Times New Roman,serif\" font-size=\"11.00\">`a03` &lt; 0.842615</text>\r\n",
       "<text text-anchor=\"start\" x=\"47.5\" y=\"-173.7\" font-family=\"Times New Roman,serif\" font-size=\"11.00\">LABELS: 0:11, 1:29</text>\r\n",
       "</g>\r\n",
       "<!-- struct5&#45;&gt;struct6 -->\r\n",
       "<g id=\"edge3\" class=\"edge\"><title>struct5&#45;&gt;struct6</title>\r\n",
       "<path fill=\"none\" stroke=\"black\" d=\"M138.488,-254.322C131.425,-244.626 122.393,-232.226 114.171,-220.938\"/>\r\n",
       "<polygon fill=\"black\" stroke=\"black\" points=\"116.805,-218.609 108.088,-212.587 111.147,-222.731 116.805,-218.609\"/>\r\n",
       "</g>\r\n",
       "<!-- struct7 -->\r\n",
       "<g id=\"node8\" class=\"node\"><title>struct7</title>\r\n",
       "<polygon fill=\"none\" stroke=\"black\" points=\"162.5,-171.5 162.5,-207.5 257.5,-207.5 257.5,-171.5 162.5,-171.5\"/>\r\n",
       "<text text-anchor=\"start\" x=\"173\" y=\"-192.7\" font-family=\"Times New Roman,serif\" font-size=\"11.00\">`a03` ≥ 0.842615</text>\r\n",
       "<text text-anchor=\"start\" x=\"170.5\" y=\"-180.7\" font-family=\"Times New Roman,serif\" font-size=\"11.00\">LABELS: 0:5, 1:2</text>\r\n",
       "</g>\r\n",
       "<!-- struct5&#45;&gt;struct7 -->\r\n",
       "<g id=\"edge8\" class=\"edge\"><title>struct5&#45;&gt;struct7</title>\r\n",
       "<path fill=\"none\" stroke=\"black\" d=\"M163.512,-254.322C171.648,-243.153 182.397,-228.395 191.51,-215.884\"/>\r\n",
       "<polygon fill=\"black\" stroke=\"black\" points=\"194.447,-217.797 197.506,-207.653 188.789,-213.676 194.447,-217.797\"/>\r\n",
       "</g>\r\n",
       "<!-- struct8 -->\r\n",
       "<g id=\"node9\" class=\"node\"><title>struct8</title>\r\n",
       "<polygon fill=\"#e0eeee\" stroke=\"black\" points=\"109,-83.5 109,-129.5 199,-129.5 199,-83.5 109,-83.5\"/>\r\n",
       "<text text-anchor=\"start\" x=\"149.5\" y=\"-113.7\" font-family=\"Times New Roman,serif\" font-size=\"16.00\">1</text>\r\n",
       "<text text-anchor=\"start\" x=\"117\" y=\"-101.7\" font-family=\"Times New Roman,serif\" font-size=\"11.00\">`a04` &lt; 0.391767</text>\r\n",
       "<text text-anchor=\"start\" x=\"123.5\" y=\"-90.7\" font-family=\"Times New Roman,serif\" font-size=\"11.00\">LABELS: 1:1</text>\r\n",
       "</g>\r\n",
       "<!-- struct7&#45;&gt;struct8 -->\r\n",
       "<g id=\"edge4\" class=\"edge\"><title>struct7&#45;&gt;struct8</title>\r\n",
       "<path fill=\"none\" stroke=\"black\" d=\"M198.124,-171.322C191.421,-161.626 182.847,-149.226 175.044,-137.938\"/>\r\n",
       "<polygon fill=\"black\" stroke=\"black\" points=\"177.836,-135.822 169.27,-129.587 172.078,-139.803 177.836,-135.822\"/>\r\n",
       "</g>\r\n",
       "<!-- struct9 -->\r\n",
       "<g id=\"node10\" class=\"node\"><title>struct9</title>\r\n",
       "<polygon fill=\"none\" stroke=\"black\" points=\"217.5,-88.5 217.5,-124.5 312.5,-124.5 312.5,-88.5 217.5,-88.5\"/>\r\n",
       "<text text-anchor=\"start\" x=\"228\" y=\"-109.7\" font-family=\"Times New Roman,serif\" font-size=\"11.00\">`a04` ≥ 0.391767</text>\r\n",
       "<text text-anchor=\"start\" x=\"225.5\" y=\"-97.7\" font-family=\"Times New Roman,serif\" font-size=\"11.00\">LABELS: 0:5, 1:1</text>\r\n",
       "</g>\r\n",
       "<!-- struct7&#45;&gt;struct9 -->\r\n",
       "<g id=\"edge7\" class=\"edge\"><title>struct7&#45;&gt;struct9</title>\r\n",
       "<path fill=\"none\" stroke=\"black\" d=\"M221.664,-171.322C229.175,-160.261 239.076,-145.679 247.518,-133.246\"/>\r\n",
       "<polygon fill=\"black\" stroke=\"black\" points=\"250.631,-134.892 253.353,-124.653 244.84,-130.96 250.631,-134.892\"/>\r\n",
       "</g>\r\n",
       "<!-- struct10 -->\r\n",
       "<g id=\"node11\" class=\"node\"><title>struct10</title>\r\n",
       "<polygon fill=\"#e0eeee\" stroke=\"black\" points=\"164,-0.5 164,-46.5 254,-46.5 254,-0.5 164,-0.5\"/>\r\n",
       "<text text-anchor=\"start\" x=\"204.5\" y=\"-30.7\" font-family=\"Times New Roman,serif\" font-size=\"16.00\">0</text>\r\n",
       "<text text-anchor=\"start\" x=\"172\" y=\"-18.7\" font-family=\"Times New Roman,serif\" font-size=\"11.00\">`a03` &lt; 0.859168</text>\r\n",
       "<text text-anchor=\"start\" x=\"178.5\" y=\"-7.7\" font-family=\"Times New Roman,serif\" font-size=\"11.00\">LABELS: 0:3</text>\r\n",
       "</g>\r\n",
       "<!-- struct9&#45;&gt;struct10 -->\r\n",
       "<g id=\"edge5\" class=\"edge\"><title>struct9&#45;&gt;struct10</title>\r\n",
       "<path fill=\"none\" stroke=\"black\" d=\"M253.124,-88.322C246.421,-78.6264 237.847,-66.2256 230.044,-54.9381\"/>\r\n",
       "<polygon fill=\"black\" stroke=\"black\" points=\"232.836,-52.822 224.27,-46.5868 227.078,-56.8028 232.836,-52.822\"/>\r\n",
       "</g>\r\n",
       "<!-- struct11 -->\r\n",
       "<g id=\"node12\" class=\"node\"><title>struct11</title>\r\n",
       "<polygon fill=\"#e0eeee\" stroke=\"black\" points=\"272.5,-0.5 272.5,-46.5 367.5,-46.5 367.5,-0.5 272.5,-0.5\"/>\r\n",
       "<text text-anchor=\"start\" x=\"315.5\" y=\"-30.7\" font-family=\"Times New Roman,serif\" font-size=\"16.00\">0</text>\r\n",
       "<text text-anchor=\"start\" x=\"283\" y=\"-18.7\" font-family=\"Times New Roman,serif\" font-size=\"11.00\">`a03` ≥ 0.859168</text>\r\n",
       "<text text-anchor=\"start\" x=\"280.5\" y=\"-7.7\" font-family=\"Times New Roman,serif\" font-size=\"11.00\">LABELS: 0:2, 1:1</text>\r\n",
       "</g>\r\n",
       "<!-- struct9&#45;&gt;struct11 -->\r\n",
       "<g id=\"edge6\" class=\"edge\"><title>struct9&#45;&gt;struct11</title>\r\n",
       "<path fill=\"none\" stroke=\"black\" d=\"M276.664,-88.322C283.248,-78.6264 291.668,-66.2256 299.332,-54.9381\"/>\r\n",
       "<polygon fill=\"black\" stroke=\"black\" points=\"302.281,-56.826 305.003,-46.5868 296.49,-52.8937 302.281,-56.826\"/>\r\n",
       "</g>\r\n",
       "</g>\r\n",
       "</svg>\r\n"
      ],
      "text/plain": [
       "ROOT\n",
       "├── SCORE = 0 WHEN `a01` < 0.5 (COUNTS: 0:25)\n",
       "└── WHEN `a01` ≥ 0.5 (COUNTS: 0:57, 1:134)\n",
       "       ├── SCORE = 0 WHEN `a03` < 0.591635 (COUNTS: 0:22)\n",
       "       └── WHEN `a03` ≥ 0.591635 (COUNTS: 0:35, 1:134)\n",
       "              ├── WHEN `a03` < 0.869735 (COUNTS: 0:16, 1:31)\n",
       "              │    ├── SCORE = 1 WHEN `a03` < 0.842615 (COUNTS: 0:11, 1:29)\n",
       "              │    └── WHEN `a03` ≥ 0.842615 (COUNTS: 0:5, 1:2)\n",
       "              │           ├── SCORE = 1 WHEN `a04` < 0.391767 (COUNTS: 1:1)\n",
       "              │           └── WHEN `a04` ≥ 0.391767 (COUNTS: 0:5, 1:1)\n",
       "              │                  ├── SCORE = 0 WHEN `a03` < 0.859168 (COUNTS: 0:3)\n",
       "              │                  └── SCORE = 0 WHEN `a03` ≥ 0.859168 (COUNTS: 0:2, 1:1)\n",
       "              └── SCORE = 1 WHEN `a03` ≥ 0.869735 (COUNTS: 0:19, 1:103)"
      ]
     },
     "execution_count": 5,
     "metadata": {},
     "output_type": "execute_result"
    }
   ],
   "source": [
    "from odps.pai.classifiers import *\n",
    "from odps.pai.preprocess import normalize\n",
    "train, test = normalize(dataset).split(0.6)\n",
    "\n",
    "lr = RandomForests(tree_num=10)\n",
    "model = lr.train(train)\n",
    "model.load_segments()[0]"
   ]
  },
  {
   "cell_type": "markdown",
   "metadata": {},
   "source": [
    "Models can be used for prediction using **predict** method. Here we predict labels on the test set using the model we just created and then store the result. DataFrame can be used to do some statistics."
   ]
  },
  {
   "cell_type": "code",
   "execution_count": 6,
   "metadata": {
    "collapsed": false
   },
   "outputs": [
    {
     "data": {
      "text/html": [
       "<div>\n",
       "<table border=\"1\" class=\"dataframe\">\n",
       "  <thead>\n",
       "    <tr style=\"text-align: right;\">\n",
       "      <th></th>\n",
       "      <th>prediction_result</th>\n",
       "      <th>count</th>\n",
       "    </tr>\n",
       "  </thead>\n",
       "  <tbody>\n",
       "    <tr>\n",
       "      <th>0</th>\n",
       "      <td>1</td>\n",
       "      <td>103</td>\n",
       "    </tr>\n",
       "    <tr>\n",
       "      <th>1</th>\n",
       "      <td>0</td>\n",
       "      <td>32</td>\n",
       "    </tr>\n",
       "  </tbody>\n",
       "</table>\n",
       "</div>"
      ],
      "text/plain": [
       "   prediction_result  count\n",
       "0                  1    103\n",
       "1                  0     32"
      ]
     },
     "execution_count": 6,
     "metadata": {},
     "output_type": "execute_result"
    }
   ],
   "source": [
    "predicted = model.predict(test)\n",
    "predicted.store_odps('test_out')\n",
    "predicted.prediction_result.value_counts().to_pandas()"
   ]
  },
  {
   "cell_type": "markdown",
   "metadata": {},
   "source": [
    "Then we calculate and plot the ROC curve for the estimation. The true label column is the column designated in field roles, while the predicted label column and score column are 'prediction_result' and 'prediction_score' by default, respectively. After obtaining false positive ratio and true positive ratio, we can plot an ROC curve with *matplotlib*."
   ]
  },
  {
   "cell_type": "code",
   "execution_count": 7,
   "metadata": {
    "collapsed": false
   },
   "outputs": [
    {
     "data": {
      "text/plain": [
       "[<matplotlib.lines.Line2D at 0xec22908>]"
      ]
     },
     "execution_count": 7,
     "metadata": {},
     "output_type": "execute_result"
    },
    {
     "data": {
      "image/png": "[encoded data removed]",
      "text/plain": [
       "<matplotlib.figure.Figure at 0xc1cb518>"
      ]
     },
     "metadata": {},
     "output_type": "display_data"
    }
   ],
   "source": [
    "from odps.pai.metrics import roc_curve\n",
    "import matplotlib.pyplot as plt\n",
    "%matplotlib inline\n",
    "\n",
    "# roc_curve is also an operational node\n",
    "fpr, tpr, thresh = roc_curve(predicted)\n",
    "plt.plot(fpr, tpr)"
   ]
  },
  {
   "cell_type": "markdown",
   "metadata": {},
   "source": [
    "AUC can also be calculated. As we have already run roc_curve, the result is cached and *roc_auc_curve* returns immediately."
   ]
  },
  {
   "cell_type": "code",
   "execution_count": 8,
   "metadata": {
    "collapsed": false
   },
   "outputs": [
    {
     "data": {
      "text/plain": [
       "0.92769730269730266"
      ]
     },
     "execution_count": 8,
     "metadata": {},
     "output_type": "execute_result"
    }
   ],
   "source": [
    "from odps.pai.metrics import roc_auc_score\n",
    "roc_auc_score(predicted)"
   ]
  },
  {
   "cell_type": "code",
   "execution_count": null,
   "metadata": {
    "collapsed": true
   },
   "outputs": [],
   "source": []
  }
 ],
 "metadata": {
  "kernelspec": {
   "display_name": "Python 2",
   "language": "python",
   "name": "python2"
  },
  "language_info": {
   "codemirror_mode": {
    "name": "ipython",
    "version": 2
   },
   "file_extension": ".py",
   "mimetype": "text/x-python",
   "name": "python",
   "nbconvert_exporter": "python",
   "pygments_lexer": "ipython2",
   "version": "2.7.11"
  }
 },
 "nbformat": 4,
 "nbformat_minor": 0
}
