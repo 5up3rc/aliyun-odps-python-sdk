{
 "cells": [
  {
   "cell_type": "code",
   "execution_count": 1,
   "metadata": {},
   "outputs": [],
   "source": [
    "import sys\n",
    "sys.path.append('../')"
   ]
  },
  {
   "cell_type": "code",
   "execution_count": 2,
   "metadata": {},
   "outputs": [],
   "source": [
    "from odps import ODPS\n",
    "from ConfigParser import ConfigParser\n",
    "config = ConfigParser()\n",
    "config.read('../odps/tests/test.conf')\n",
    "\n",
    "access_id = config.get(\"odps\", \"access_id\")\n",
    "secret_access_key = config.get(\"odps\", \"secret_access_key\")\n",
    "project = config.get(\"odps\", \"project\")\n",
    "endpoint = config.get(\"odps\", \"endpoint\")\n",
    "        \n",
    "o = ODPS(access_id, secret_access_key, project=project, endpoint=endpoint)"
   ]
  },
  {
   "cell_type": "code",
   "execution_count": 3,
   "metadata": {},
   "outputs": [],
   "source": [
    "from odps.pai.context import PAIContext\n",
    "from odps.pai.algorithms.classifiers import *\n",
    "from odps.pai.metrics.classification import roc_curve\n",
    "pai_context = PAIContext(o)"
   ]
  },
  {
   "cell_type": "code",
   "execution_count": 4,
   "metadata": {},
   "outputs": [],
   "source": [
    "dataset = pai_context.odps_data(\"ionosphere\")\n",
    "splited = dataset.split(0.6)\n",
    "\n",
    "labeled_data = splited[0].set_label_field(\"class\")\n",
    "lr = LogisticRegression()\n",
    "model = lr.train(labeled_data)\n",
    "\n",
    "predicted = model.predict(splited[1])\n",
    "# store_odps is an operational node which will trigger execution of the flow\n",
    "predicted.store_odps(\"testOut\")"
   ]
  },
  {
   "cell_type": "code",
   "execution_count": 5,
   "metadata": {},
   "outputs": [
    {
     "data": {
      "text/plain": [
       "[<matplotlib.lines.Line2D at 0xb6fdfd0>]"
      ]
     },
     "execution_count": 5,
     "output_type": "execute_result",
     "metadata": {}
    },
    {
     "data": {
      "image/png": "[encoded data removed]"
     },
     "output_type": "display_data",
     "metadata": {}
    }
   ],
   "source": [
    "import matplotlib.pyplot as plt\n",
    "%matplotlib inline\n",
    "\n",
    "# roc_curve is also an operational node\n",
    "fpr, tpr, thresh = roc_curve(predicted, 1, \"class\")\n",
    "plt.plot(fpr, tpr)"
   ]
  },
  {
   "cell_type": "code",
   "execution_count": null,
   "metadata": {},
   "outputs": [],
   "source": [
    ""
   ]
  }
 ],
 "metadata": {
  "kernelspec": {
   "display_name": "Python 2",
   "language": "python",
   "name": "python2"
  },
  "language_info": {
   "codemirror_mode": {
    "name": "ipython",
    "version": 2.0
   },
   "file_extension": ".py",
   "mimetype": "text/x-python",
   "name": "python",
   "nbconvert_exporter": "python",
   "pygments_lexer": "ipython2",
   "version": "2.7.10"
  }
 },
 "nbformat": 4,
 "nbformat_minor": 0
}